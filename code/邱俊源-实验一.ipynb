{
 "cells": [
  {
   "cell_type": "markdown",
   "metadata": {},
   "source": [
    "### 国家知识产权专利局统计年鉴爬虫"
   ]
  },
  {
   "cell_type": "code",
   "execution_count": 2,
   "metadata": {},
   "outputs": [
    {
     "name": "stderr",
     "output_type": "stream",
     "text": [
      "  0%|          | 0/11 [00:00<?, ?it/s]C:\\Users\\USER\\anaconda3\\envs\\jupyterlab\\lib\\site-packages\\requests\\packages\\urllib3\\connectionpool.py:852: InsecureRequestWarning: Unverified HTTPS request is being made. Adding certificate verification is strongly advised. See: https://urllib3.readthedocs.io/en/latest/advanced-usage.html#ssl-warnings\n",
      "  InsecureRequestWarning)\n",
      "C:\\Users\\USER\\anaconda3\\envs\\jupyterlab\\lib\\site-packages\\requests\\packages\\urllib3\\connectionpool.py:852: InsecureRequestWarning: Unverified HTTPS request is being made. Adding certificate verification is strongly advised. See: https://urllib3.readthedocs.io/en/latest/advanced-usage.html#ssl-warnings\n",
      "  InsecureRequestWarning)\n"
     ]
    },
    {
     "name": "stdout",
     "output_type": "stream",
     "text": [
      "访问https://www.cnipa.gov.cn/tjxx/jianbao/year2008/a/a1.html\n",
      "访问https://www.cnipa.gov.cn/tjxx/jianbao/year2008/a/a10.html\n",
      "访问https://www.cnipa.gov.cn/tjxx/jianbao/year2008/a/a11.html\n",
      "访问https://www.cnipa.gov.cn/tjxx/jianbao/year2008/a/a12.html\n",
      "访问https://www.cnipa.gov.cn/tjxx/jianbao/year2008/a/a13.html\n",
      "访问https://www.cnipa.gov.cn/tjxx/jianbao/year2008/a/a14.html\n",
      "访问https://www.cnipa.gov.cn/tjxx/jianbao/year2008/a/a15.html\n",
      "访问https://www.cnipa.gov.cn/tjxx/jianbao/year2008/a/a16.html\n",
      "访问https://www.cnipa.gov.cn/tjxx/jianbao/year2008/a/a17.html\n",
      "访问https://www.cnipa.gov.cn/tjxx/jianbao/year2008/a/a18.html\n",
      "访问https://www.cnipa.gov.cn/tjxx/jianbao/year2008/a/a2.html\n",
      "访问https://www.cnipa.gov.cn/tjxx/jianbao/year2008/a/a3.html\n",
      "访问https://www.cnipa.gov.cn/tjxx/jianbao/year2008/a/a4.html\n",
      "访问https://www.cnipa.gov.cn/tjxx/jianbao/year2008/a/a5.html\n",
      "访问https://www.cnipa.gov.cn/tjxx/jianbao/year2008/a/a6.html\n",
      "访问https://www.cnipa.gov.cn/tjxx/jianbao/year2008/a/a7.html\n",
      "访问https://www.cnipa.gov.cn/tjxx/jianbao/year2008/a/a8.html\n",
      "访问https://www.cnipa.gov.cn/tjxx/jianbao/year2008/a/a9.html\n"
     ]
    },
    {
     "name": "stderr",
     "output_type": "stream",
     "text": [
      "C:\\Users\\USER\\anaconda3\\envs\\jupyterlab\\lib\\site-packages\\requests\\packages\\urllib3\\connectionpool.py:852: InsecureRequestWarning: Unverified HTTPS request is being made. Adding certificate verification is strongly advised. See: https://urllib3.readthedocs.io/en/latest/advanced-usage.html#ssl-warnings\n",
      "  InsecureRequestWarning)\n"
     ]
    },
    {
     "name": "stdout",
     "output_type": "stream",
     "text": [
      "访问https://www.cnipa.gov.cn/tjxx/jianbao/year2008/b/b1.html\n",
      "访问https://www.cnipa.gov.cn/tjxx/jianbao/year2008/b/b10.html\n",
      "访问https://www.cnipa.gov.cn/tjxx/jianbao/year2008/b/b11.html\n",
      "访问https://www.cnipa.gov.cn/tjxx/jianbao/year2008/b/b12.html\n",
      "访问https://www.cnipa.gov.cn/tjxx/jianbao/year2008/b/b13.html\n",
      "访问https://www.cnipa.gov.cn/tjxx/jianbao/year2008/b/b14.html\n",
      "访问https://www.cnipa.gov.cn/tjxx/jianbao/year2008/b/b2.html\n",
      "访问https://www.cnipa.gov.cn/tjxx/jianbao/year2008/b/b3.html\n",
      "访问https://www.cnipa.gov.cn/tjxx/jianbao/year2008/b/b4.html\n",
      "访问https://www.cnipa.gov.cn/tjxx/jianbao/year2008/b/b5.html\n",
      "访问https://www.cnipa.gov.cn/tjxx/jianbao/year2008/b/b6.html\n",
      "访问https://www.cnipa.gov.cn/tjxx/jianbao/year2008/b/b7.html\n",
      "访问https://www.cnipa.gov.cn/tjxx/jianbao/year2008/b/b8.html\n",
      "访问https://www.cnipa.gov.cn/tjxx/jianbao/year2008/b/b9.html\n"
     ]
    },
    {
     "name": "stderr",
     "output_type": "stream",
     "text": [
      "C:\\Users\\USER\\anaconda3\\envs\\jupyterlab\\lib\\site-packages\\requests\\packages\\urllib3\\connectionpool.py:852: InsecureRequestWarning: Unverified HTTPS request is being made. Adding certificate verification is strongly advised. See: https://urllib3.readthedocs.io/en/latest/advanced-usage.html#ssl-warnings\n",
      "  InsecureRequestWarning)\n"
     ]
    },
    {
     "name": "stdout",
     "output_type": "stream",
     "text": [
      "访问https://www.cnipa.gov.cn/tjxx/jianbao/year2008/c/c1.html\n",
      "访问https://www.cnipa.gov.cn/tjxx/jianbao/year2008/c/c2.html\n",
      "访问https://www.cnipa.gov.cn/tjxx/jianbao/year2008/c/c3.html\n",
      "访问https://www.cnipa.gov.cn/tjxx/jianbao/year2008/c/c4.html\n",
      "访问https://www.cnipa.gov.cn/tjxx/jianbao/year2008/c/c5.html\n",
      "访问https://www.cnipa.gov.cn/tjxx/jianbao/year2008/c/c6.html\n",
      "访问https://www.cnipa.gov.cn/tjxx/jianbao/year2008/c/c7.html\n",
      "访问https://www.cnipa.gov.cn/tjxx/jianbao/year2008/c/c8.html\n",
      "访问https://www.cnipa.gov.cn/tjxx/jianbao/year2008/c/c9.html\n"
     ]
    },
    {
     "name": "stderr",
     "output_type": "stream",
     "text": [
      "C:\\Users\\USER\\anaconda3\\envs\\jupyterlab\\lib\\site-packages\\requests\\packages\\urllib3\\connectionpool.py:852: InsecureRequestWarning: Unverified HTTPS request is being made. Adding certificate verification is strongly advised. See: https://urllib3.readthedocs.io/en/latest/advanced-usage.html#ssl-warnings\n",
      "  InsecureRequestWarning)\n"
     ]
    },
    {
     "name": "stdout",
     "output_type": "stream",
     "text": [
      "访问https://www.cnipa.gov.cn/tjxx/jianbao/year2008/d/d1.html\n",
      "访问https://www.cnipa.gov.cn/tjxx/jianbao/year2008/d/d2.html\n",
      "访问https://www.cnipa.gov.cn/tjxx/jianbao/year2008/d/d3.html\n",
      "访问https://www.cnipa.gov.cn/tjxx/jianbao/year2008/d/d4.html\n"
     ]
    },
    {
     "name": "stderr",
     "output_type": "stream",
     "text": [
      "C:\\Users\\USER\\anaconda3\\envs\\jupyterlab\\lib\\site-packages\\requests\\packages\\urllib3\\connectionpool.py:852: InsecureRequestWarning: Unverified HTTPS request is being made. Adding certificate verification is strongly advised. See: https://urllib3.readthedocs.io/en/latest/advanced-usage.html#ssl-warnings\n",
      "  InsecureRequestWarning)\n"
     ]
    },
    {
     "name": "stdout",
     "output_type": "stream",
     "text": [
      "访问https://www.cnipa.gov.cn/tjxx/jianbao/year2008/e/e1.html\n",
      "访问https://www.cnipa.gov.cn/tjxx/jianbao/year2008/e/e2.html\n",
      "访问https://www.cnipa.gov.cn/tjxx/jianbao/year2008/e/e3.html\n",
      "访问https://www.cnipa.gov.cn/tjxx/jianbao/year2008/e/e4.html\n",
      "访问https://www.cnipa.gov.cn/tjxx/jianbao/year2008/e/e5.html\n",
      "访问https://www.cnipa.gov.cn/tjxx/jianbao/year2008/e/e6.html\n"
     ]
    },
    {
     "name": "stderr",
     "output_type": "stream",
     "text": [
      "C:\\Users\\USER\\anaconda3\\envs\\jupyterlab\\lib\\site-packages\\requests\\packages\\urllib3\\connectionpool.py:852: InsecureRequestWarning: Unverified HTTPS request is being made. Adding certificate verification is strongly advised. See: https://urllib3.readthedocs.io/en/latest/advanced-usage.html#ssl-warnings\n",
      "  InsecureRequestWarning)\n"
     ]
    },
    {
     "name": "stdout",
     "output_type": "stream",
     "text": [
      "访问https://www.cnipa.gov.cn/tjxx/jianbao/year2008/f/f1.html\n",
      "访问https://www.cnipa.gov.cn/tjxx/jianbao/year2008/f/f2.html\n",
      "访问https://www.cnipa.gov.cn/tjxx/jianbao/year2008/f/f3.html\n",
      "访问https://www.cnipa.gov.cn/tjxx/jianbao/year2008/f/f4.html\n"
     ]
    },
    {
     "name": "stderr",
     "output_type": "stream",
     "text": [
      "C:\\Users\\USER\\anaconda3\\envs\\jupyterlab\\lib\\site-packages\\requests\\packages\\urllib3\\connectionpool.py:852: InsecureRequestWarning: Unverified HTTPS request is being made. Adding certificate verification is strongly advised. See: https://urllib3.readthedocs.io/en/latest/advanced-usage.html#ssl-warnings\n",
      "  InsecureRequestWarning)\n"
     ]
    },
    {
     "name": "stdout",
     "output_type": "stream",
     "text": [
      "访问https://www.cnipa.gov.cn/tjxx/jianbao/year2008/g/g1.html\n",
      "访问https://www.cnipa.gov.cn/tjxx/jianbao/year2008/g/g2.html\n",
      "访问https://www.cnipa.gov.cn/tjxx/jianbao/year2008/g/g3.html\n",
      "访问https://www.cnipa.gov.cn/tjxx/jianbao/year2008/g/g4.html\n",
      "访问https://www.cnipa.gov.cn/tjxx/jianbao/year2008/g/g5.html\n",
      "访问https://www.cnipa.gov.cn/tjxx/jianbao/year2008/g/g6.html\n"
     ]
    },
    {
     "name": "stderr",
     "output_type": "stream",
     "text": [
      "C:\\Users\\USER\\anaconda3\\envs\\jupyterlab\\lib\\site-packages\\requests\\packages\\urllib3\\connectionpool.py:852: InsecureRequestWarning: Unverified HTTPS request is being made. Adding certificate verification is strongly advised. See: https://urllib3.readthedocs.io/en/latest/advanced-usage.html#ssl-warnings\n",
      "  InsecureRequestWarning)\n"
     ]
    },
    {
     "name": "stdout",
     "output_type": "stream",
     "text": [
      "访问https://www.cnipa.gov.cn/tjxx/jianbao/year2008/h/h1.html\n",
      "访问https://www.cnipa.gov.cn/tjxx/jianbao/year2008/h/h2.html\n",
      "访问https://www.cnipa.gov.cn/tjxx/jianbao/year2008/h/h3.html\n",
      "访问https://www.cnipa.gov.cn/tjxx/jianbao/year2008/h/h4.html\n",
      "访问https://www.cnipa.gov.cn/tjxx/jianbao/year2008/h/h5.html\n",
      "访问https://www.cnipa.gov.cn/tjxx/jianbao/year2008/h/h6.html\n"
     ]
    },
    {
     "name": "stderr",
     "output_type": "stream",
     "text": [
      "C:\\Users\\USER\\anaconda3\\envs\\jupyterlab\\lib\\site-packages\\requests\\packages\\urllib3\\connectionpool.py:852: InsecureRequestWarning: Unverified HTTPS request is being made. Adding certificate verification is strongly advised. See: https://urllib3.readthedocs.io/en/latest/advanced-usage.html#ssl-warnings\n",
      "  InsecureRequestWarning)\n",
      "  9%|▉         | 1/11 [00:26<04:26, 26.64s/it]C:\\Users\\USER\\anaconda3\\envs\\jupyterlab\\lib\\site-packages\\requests\\packages\\urllib3\\connectionpool.py:852: InsecureRequestWarning: Unverified HTTPS request is being made. Adding certificate verification is strongly advised. See: https://urllib3.readthedocs.io/en/latest/advanced-usage.html#ssl-warnings\n",
      "  InsecureRequestWarning)\n",
      "C:\\Users\\USER\\anaconda3\\envs\\jupyterlab\\lib\\site-packages\\requests\\packages\\urllib3\\connectionpool.py:852: InsecureRequestWarning: Unverified HTTPS request is being made. Adding certificate verification is strongly advised. See: https://urllib3.readthedocs.io/en/latest/advanced-usage.html#ssl-warnings\n",
      "  InsecureRequestWarning)\n"
     ]
    },
    {
     "name": "stdout",
     "output_type": "stream",
     "text": [
      "访问https://www.cnipa.gov.cn/tjxx/jianbao/year2009/a/a1.html\n",
      "访问https://www.cnipa.gov.cn/tjxx/jianbao/year2009/a/a10.html\n",
      "访问https://www.cnipa.gov.cn/tjxx/jianbao/year2009/a/a11.html\n",
      "访问https://www.cnipa.gov.cn/tjxx/jianbao/year2009/a/a12.html\n",
      "访问https://www.cnipa.gov.cn/tjxx/jianbao/year2009/a/a13.html\n",
      "访问https://www.cnipa.gov.cn/tjxx/jianbao/year2009/a/a14.html\n",
      "访问https://www.cnipa.gov.cn/tjxx/jianbao/year2009/a/a15.html\n",
      "访问https://www.cnipa.gov.cn/tjxx/jianbao/year2009/a/a16.html\n",
      "访问https://www.cnipa.gov.cn/tjxx/jianbao/year2009/a/a17.html\n",
      "访问https://www.cnipa.gov.cn/tjxx/jianbao/year2009/a/a18.html\n",
      "访问https://www.cnipa.gov.cn/tjxx/jianbao/year2009/a/a2.html\n",
      "访问https://www.cnipa.gov.cn/tjxx/jianbao/year2009/a/a3.html\n",
      "访问https://www.cnipa.gov.cn/tjxx/jianbao/year2009/a/a4.html\n",
      "访问https://www.cnipa.gov.cn/tjxx/jianbao/year2009/a/a5.html\n",
      "访问https://www.cnipa.gov.cn/tjxx/jianbao/year2009/a/a6.html\n",
      "访问https://www.cnipa.gov.cn/tjxx/jianbao/year2009/a/a7.html\n",
      "访问https://www.cnipa.gov.cn/tjxx/jianbao/year2009/a/a8.html\n",
      "访问https://www.cnipa.gov.cn/tjxx/jianbao/year2009/a/a9.html\n"
     ]
    },
    {
     "name": "stderr",
     "output_type": "stream",
     "text": [
      "C:\\Users\\USER\\anaconda3\\envs\\jupyterlab\\lib\\site-packages\\requests\\packages\\urllib3\\connectionpool.py:852: InsecureRequestWarning: Unverified HTTPS request is being made. Adding certificate verification is strongly advised. See: https://urllib3.readthedocs.io/en/latest/advanced-usage.html#ssl-warnings\n",
      "  InsecureRequestWarning)\n"
     ]
    },
    {
     "name": "stdout",
     "output_type": "stream",
     "text": [
      "访问https://www.cnipa.gov.cn/tjxx/jianbao/year2009/b/b1.html\n",
      "访问https://www.cnipa.gov.cn/tjxx/jianbao/year2009/b/b10.html\n",
      "访问https://www.cnipa.gov.cn/tjxx/jianbao/year2009/b/b11.html\n",
      "访问https://www.cnipa.gov.cn/tjxx/jianbao/year2009/b/b12.html\n",
      "访问https://www.cnipa.gov.cn/tjxx/jianbao/year2009/b/b13.html\n",
      "访问https://www.cnipa.gov.cn/tjxx/jianbao/year2009/b/b14.html\n",
      "访问https://www.cnipa.gov.cn/tjxx/jianbao/year2009/b/b2.html\n",
      "访问https://www.cnipa.gov.cn/tjxx/jianbao/year2009/b/b3.html\n",
      "访问https://www.cnipa.gov.cn/tjxx/jianbao/year2009/b/b4.html\n",
      "访问https://www.cnipa.gov.cn/tjxx/jianbao/year2009/b/b5.html\n",
      "访问https://www.cnipa.gov.cn/tjxx/jianbao/year2009/b/b6.html\n",
      "访问https://www.cnipa.gov.cn/tjxx/jianbao/year2009/b/b7.html\n",
      "访问https://www.cnipa.gov.cn/tjxx/jianbao/year2009/b/b8.html\n",
      "访问https://www.cnipa.gov.cn/tjxx/jianbao/year2009/b/b9.html\n"
     ]
    },
    {
     "name": "stderr",
     "output_type": "stream",
     "text": [
      "C:\\Users\\USER\\anaconda3\\envs\\jupyterlab\\lib\\site-packages\\requests\\packages\\urllib3\\connectionpool.py:852: InsecureRequestWarning: Unverified HTTPS request is being made. Adding certificate verification is strongly advised. See: https://urllib3.readthedocs.io/en/latest/advanced-usage.html#ssl-warnings\n",
      "  InsecureRequestWarning)\n"
     ]
    },
    {
     "name": "stdout",
     "output_type": "stream",
     "text": [
      "访问https://www.cnipa.gov.cn/tjxx/jianbao/year2009/c/c1.html\n",
      "访问https://www.cnipa.gov.cn/tjxx/jianbao/year2009/c/c2.html\n",
      "访问https://www.cnipa.gov.cn/tjxx/jianbao/year2009/c/c3.html\n",
      "访问https://www.cnipa.gov.cn/tjxx/jianbao/year2009/c/c4.html\n",
      "访问https://www.cnipa.gov.cn/tjxx/jianbao/year2009/c/c5.html\n",
      "访问https://www.cnipa.gov.cn/tjxx/jianbao/year2009/c/c6.html\n",
      "访问https://www.cnipa.gov.cn/tjxx/jianbao/year2009/c/c7.html\n",
      "访问https://www.cnipa.gov.cn/tjxx/jianbao/year2009/c/c8.html\n",
      "访问https://www.cnipa.gov.cn/tjxx/jianbao/year2009/c/c9.html\n"
     ]
    },
    {
     "name": "stderr",
     "output_type": "stream",
     "text": [
      "C:\\Users\\USER\\anaconda3\\envs\\jupyterlab\\lib\\site-packages\\requests\\packages\\urllib3\\connectionpool.py:852: InsecureRequestWarning: Unverified HTTPS request is being made. Adding certificate verification is strongly advised. See: https://urllib3.readthedocs.io/en/latest/advanced-usage.html#ssl-warnings\n",
      "  InsecureRequestWarning)\n"
     ]
    },
    {
     "name": "stdout",
     "output_type": "stream",
     "text": [
      "访问https://www.cnipa.gov.cn/tjxx/jianbao/year2009/d/d1.html\n",
      "访问https://www.cnipa.gov.cn/tjxx/jianbao/year2009/d/d2.html\n",
      "访问https://www.cnipa.gov.cn/tjxx/jianbao/year2009/d/d3.html\n",
      "访问https://www.cnipa.gov.cn/tjxx/jianbao/year2009/d/d4.html\n"
     ]
    },
    {
     "name": "stderr",
     "output_type": "stream",
     "text": [
      "C:\\Users\\USER\\anaconda3\\envs\\jupyterlab\\lib\\site-packages\\requests\\packages\\urllib3\\connectionpool.py:852: InsecureRequestWarning: Unverified HTTPS request is being made. Adding certificate verification is strongly advised. See: https://urllib3.readthedocs.io/en/latest/advanced-usage.html#ssl-warnings\n",
      "  InsecureRequestWarning)\n"
     ]
    },
    {
     "name": "stdout",
     "output_type": "stream",
     "text": [
      "访问https://www.cnipa.gov.cn/tjxx/jianbao/year2009/e/e1.html\n",
      "访问https://www.cnipa.gov.cn/tjxx/jianbao/year2009/e/e2.html\n",
      "访问https://www.cnipa.gov.cn/tjxx/jianbao/year2009/e/e3.html\n",
      "访问https://www.cnipa.gov.cn/tjxx/jianbao/year2009/e/e4.html\n",
      "访问https://www.cnipa.gov.cn/tjxx/jianbao/year2009/e/e5.html\n",
      "访问https://www.cnipa.gov.cn/tjxx/jianbao/year2009/e/e6.html\n"
     ]
    },
    {
     "name": "stderr",
     "output_type": "stream",
     "text": [
      "C:\\Users\\USER\\anaconda3\\envs\\jupyterlab\\lib\\site-packages\\requests\\packages\\urllib3\\connectionpool.py:852: InsecureRequestWarning: Unverified HTTPS request is being made. Adding certificate verification is strongly advised. See: https://urllib3.readthedocs.io/en/latest/advanced-usage.html#ssl-warnings\n",
      "  InsecureRequestWarning)\n"
     ]
    },
    {
     "name": "stdout",
     "output_type": "stream",
     "text": [
      "访问https://www.cnipa.gov.cn/tjxx/jianbao/year2009/f/f1.html\n",
      "访问https://www.cnipa.gov.cn/tjxx/jianbao/year2009/f/f2.html\n",
      "访问https://www.cnipa.gov.cn/tjxx/jianbao/year2009/f/f3.html\n",
      "访问https://www.cnipa.gov.cn/tjxx/jianbao/year2009/f/f4.html\n"
     ]
    },
    {
     "name": "stderr",
     "output_type": "stream",
     "text": [
      "C:\\Users\\USER\\anaconda3\\envs\\jupyterlab\\lib\\site-packages\\requests\\packages\\urllib3\\connectionpool.py:852: InsecureRequestWarning: Unverified HTTPS request is being made. Adding certificate verification is strongly advised. See: https://urllib3.readthedocs.io/en/latest/advanced-usage.html#ssl-warnings\n",
      "  InsecureRequestWarning)\n"
     ]
    },
    {
     "name": "stdout",
     "output_type": "stream",
     "text": [
      "访问https://www.cnipa.gov.cn/tjxx/jianbao/year2009/g/g1.html\n",
      "访问https://www.cnipa.gov.cn/tjxx/jianbao/year2009/g/g2.html\n",
      "访问https://www.cnipa.gov.cn/tjxx/jianbao/year2009/g/g3.html\n",
      "访问https://www.cnipa.gov.cn/tjxx/jianbao/year2009/g/g4.html\n",
      "访问https://www.cnipa.gov.cn/tjxx/jianbao/year2009/g/g5.html\n",
      "访问https://www.cnipa.gov.cn/tjxx/jianbao/year2009/g/g6.html\n"
     ]
    },
    {
     "name": "stderr",
     "output_type": "stream",
     "text": [
      "C:\\Users\\USER\\anaconda3\\envs\\jupyterlab\\lib\\site-packages\\requests\\packages\\urllib3\\connectionpool.py:852: InsecureRequestWarning: Unverified HTTPS request is being made. Adding certificate verification is strongly advised. See: https://urllib3.readthedocs.io/en/latest/advanced-usage.html#ssl-warnings\n",
      "  InsecureRequestWarning)\n"
     ]
    },
    {
     "name": "stdout",
     "output_type": "stream",
     "text": [
      "访问https://www.cnipa.gov.cn/tjxx/jianbao/year2009/h/h1.html\n",
      "访问https://www.cnipa.gov.cn/tjxx/jianbao/year2009/h/h2.html\n",
      "访问https://www.cnipa.gov.cn/tjxx/jianbao/year2009/h/h3.html\n",
      "访问https://www.cnipa.gov.cn/tjxx/jianbao/year2009/h/h4.html\n",
      "访问https://www.cnipa.gov.cn/tjxx/jianbao/year2009/h/h5.html\n",
      "访问https://www.cnipa.gov.cn/tjxx/jianbao/year2009/h/h6.html\n"
     ]
    },
    {
     "name": "stderr",
     "output_type": "stream",
     "text": [
      "C:\\Users\\USER\\anaconda3\\envs\\jupyterlab\\lib\\site-packages\\requests\\packages\\urllib3\\connectionpool.py:852: InsecureRequestWarning: Unverified HTTPS request is being made. Adding certificate verification is strongly advised. See: https://urllib3.readthedocs.io/en/latest/advanced-usage.html#ssl-warnings\n",
      "  InsecureRequestWarning)\n",
      " 18%|█▊        | 2/11 [00:51<03:50, 25.58s/it]C:\\Users\\USER\\anaconda3\\envs\\jupyterlab\\lib\\site-packages\\requests\\packages\\urllib3\\connectionpool.py:852: InsecureRequestWarning: Unverified HTTPS request is being made. Adding certificate verification is strongly advised. See: https://urllib3.readthedocs.io/en/latest/advanced-usage.html#ssl-warnings\n",
      "  InsecureRequestWarning)\n",
      "C:\\Users\\USER\\anaconda3\\envs\\jupyterlab\\lib\\site-packages\\requests\\packages\\urllib3\\connectionpool.py:852: InsecureRequestWarning: Unverified HTTPS request is being made. Adding certificate verification is strongly advised. See: https://urllib3.readthedocs.io/en/latest/advanced-usage.html#ssl-warnings\n",
      "  InsecureRequestWarning)\n"
     ]
    },
    {
     "name": "stdout",
     "output_type": "stream",
     "text": [
      "访问https://www.cnipa.gov.cn/tjxx/jianbao/year2010/a/a1.html\n",
      "访问https://www.cnipa.gov.cn/tjxx/jianbao/year2010/a/a10.html\n",
      "访问https://www.cnipa.gov.cn/tjxx/jianbao/year2010/a/a11.html\n",
      "访问https://www.cnipa.gov.cn/tjxx/jianbao/year2010/a/a12.html\n",
      "访问https://www.cnipa.gov.cn/tjxx/jianbao/year2010/a/a13.html\n",
      "访问https://www.cnipa.gov.cn/tjxx/jianbao/year2010/a/a14.html\n",
      "访问https://www.cnipa.gov.cn/tjxx/jianbao/year2010/a/a15.html\n",
      "访问https://www.cnipa.gov.cn/tjxx/jianbao/year2010/a/a16.html\n",
      "访问https://www.cnipa.gov.cn/tjxx/jianbao/year2010/a/a17.html\n",
      "访问https://www.cnipa.gov.cn/tjxx/jianbao/year2010/a/a18.html\n",
      "访问https://www.cnipa.gov.cn/tjxx/jianbao/year2010/a/a2.html\n",
      "访问https://www.cnipa.gov.cn/tjxx/jianbao/year2010/a/a3.html\n",
      "访问https://www.cnipa.gov.cn/tjxx/jianbao/year2010/a/a4.html\n",
      "访问https://www.cnipa.gov.cn/tjxx/jianbao/year2010/a/a5.html\n",
      "访问https://www.cnipa.gov.cn/tjxx/jianbao/year2010/a/a6.html\n",
      "访问https://www.cnipa.gov.cn/tjxx/jianbao/year2010/a/a7.html\n",
      "访问https://www.cnipa.gov.cn/tjxx/jianbao/year2010/a/a8.html\n",
      "访问https://www.cnipa.gov.cn/tjxx/jianbao/year2010/a/a9.html\n"
     ]
    },
    {
     "name": "stderr",
     "output_type": "stream",
     "text": [
      "C:\\Users\\USER\\anaconda3\\envs\\jupyterlab\\lib\\site-packages\\requests\\packages\\urllib3\\connectionpool.py:852: InsecureRequestWarning: Unverified HTTPS request is being made. Adding certificate verification is strongly advised. See: https://urllib3.readthedocs.io/en/latest/advanced-usage.html#ssl-warnings\n",
      "  InsecureRequestWarning)\n"
     ]
    },
    {
     "name": "stdout",
     "output_type": "stream",
     "text": [
      "访问https://www.cnipa.gov.cn/tjxx/jianbao/year2010/b/b1.html\n",
      "访问https://www.cnipa.gov.cn/tjxx/jianbao/year2010/b/b10.html\n",
      "访问https://www.cnipa.gov.cn/tjxx/jianbao/year2010/b/b11.html\n",
      "访问https://www.cnipa.gov.cn/tjxx/jianbao/year2010/b/b12.html\n",
      "访问https://www.cnipa.gov.cn/tjxx/jianbao/year2010/b/b13.html\n",
      "访问https://www.cnipa.gov.cn/tjxx/jianbao/year2010/b/b14.html\n",
      "访问https://www.cnipa.gov.cn/tjxx/jianbao/year2010/b/b2.html\n",
      "访问https://www.cnipa.gov.cn/tjxx/jianbao/year2010/b/b3.html\n",
      "访问https://www.cnipa.gov.cn/tjxx/jianbao/year2010/b/b4.html\n",
      "访问https://www.cnipa.gov.cn/tjxx/jianbao/year2010/b/b5.html\n",
      "访问https://www.cnipa.gov.cn/tjxx/jianbao/year2010/b/b6.html\n",
      "访问https://www.cnipa.gov.cn/tjxx/jianbao/year2010/b/b7.html\n",
      "访问https://www.cnipa.gov.cn/tjxx/jianbao/year2010/b/b8.html\n",
      "访问https://www.cnipa.gov.cn/tjxx/jianbao/year2010/b/b9.html\n"
     ]
    },
    {
     "name": "stderr",
     "output_type": "stream",
     "text": [
      "C:\\Users\\USER\\anaconda3\\envs\\jupyterlab\\lib\\site-packages\\requests\\packages\\urllib3\\connectionpool.py:852: InsecureRequestWarning: Unverified HTTPS request is being made. Adding certificate verification is strongly advised. See: https://urllib3.readthedocs.io/en/latest/advanced-usage.html#ssl-warnings\n",
      "  InsecureRequestWarning)\n"
     ]
    },
    {
     "name": "stdout",
     "output_type": "stream",
     "text": [
      "访问https://www.cnipa.gov.cn/tjxx/jianbao/year2010/c/c1.html\n",
      "访问https://www.cnipa.gov.cn/tjxx/jianbao/year2010/c/c2.html\n",
      "访问https://www.cnipa.gov.cn/tjxx/jianbao/year2010/c/c3.html\n",
      "访问https://www.cnipa.gov.cn/tjxx/jianbao/year2010/c/c4.html\n",
      "访问https://www.cnipa.gov.cn/tjxx/jianbao/year2010/c/c5.html\n",
      "访问https://www.cnipa.gov.cn/tjxx/jianbao/year2010/c/c6.html\n",
      "访问https://www.cnipa.gov.cn/tjxx/jianbao/year2010/c/c7.html\n",
      "访问https://www.cnipa.gov.cn/tjxx/jianbao/year2010/c/c8.html\n",
      "访问https://www.cnipa.gov.cn/tjxx/jianbao/year2010/c/c9.html\n"
     ]
    },
    {
     "name": "stderr",
     "output_type": "stream",
     "text": [
      "C:\\Users\\USER\\anaconda3\\envs\\jupyterlab\\lib\\site-packages\\requests\\packages\\urllib3\\connectionpool.py:852: InsecureRequestWarning: Unverified HTTPS request is being made. Adding certificate verification is strongly advised. See: https://urllib3.readthedocs.io/en/latest/advanced-usage.html#ssl-warnings\n",
      "  InsecureRequestWarning)\n"
     ]
    },
    {
     "name": "stdout",
     "output_type": "stream",
     "text": [
      "访问https://www.cnipa.gov.cn/tjxx/jianbao/year2010/d/d1.html\n",
      "访问https://www.cnipa.gov.cn/tjxx/jianbao/year2010/d/d2.html\n",
      "访问https://www.cnipa.gov.cn/tjxx/jianbao/year2010/d/d3.html\n",
      "访问https://www.cnipa.gov.cn/tjxx/jianbao/year2010/d/d4.html\n"
     ]
    },
    {
     "name": "stderr",
     "output_type": "stream",
     "text": [
      "C:\\Users\\USER\\anaconda3\\envs\\jupyterlab\\lib\\site-packages\\requests\\packages\\urllib3\\connectionpool.py:852: InsecureRequestWarning: Unverified HTTPS request is being made. Adding certificate verification is strongly advised. See: https://urllib3.readthedocs.io/en/latest/advanced-usage.html#ssl-warnings\n",
      "  InsecureRequestWarning)\n"
     ]
    },
    {
     "name": "stdout",
     "output_type": "stream",
     "text": [
      "访问https://www.cnipa.gov.cn/tjxx/jianbao/year2010/e/e1.html\n",
      "访问https://www.cnipa.gov.cn/tjxx/jianbao/year2010/e/e2.html\n",
      "访问https://www.cnipa.gov.cn/tjxx/jianbao/year2010/e/e3.html\n",
      "访问https://www.cnipa.gov.cn/tjxx/jianbao/year2010/e/e4.html\n",
      "访问https://www.cnipa.gov.cn/tjxx/jianbao/year2010/e/e5.html\n",
      "访问https://www.cnipa.gov.cn/tjxx/jianbao/year2010/e/e6.html\n"
     ]
    },
    {
     "name": "stderr",
     "output_type": "stream",
     "text": [
      "C:\\Users\\USER\\anaconda3\\envs\\jupyterlab\\lib\\site-packages\\requests\\packages\\urllib3\\connectionpool.py:852: InsecureRequestWarning: Unverified HTTPS request is being made. Adding certificate verification is strongly advised. See: https://urllib3.readthedocs.io/en/latest/advanced-usage.html#ssl-warnings\n",
      "  InsecureRequestWarning)\n"
     ]
    },
    {
     "name": "stdout",
     "output_type": "stream",
     "text": [
      "访问https://www.cnipa.gov.cn/tjxx/jianbao/year2010/f/f1.html\n",
      "访问https://www.cnipa.gov.cn/tjxx/jianbao/year2010/f/f2.html\n",
      "访问https://www.cnipa.gov.cn/tjxx/jianbao/year2010/f/f3.html\n",
      "访问https://www.cnipa.gov.cn/tjxx/jianbao/year2010/f/f4.html\n"
     ]
    },
    {
     "name": "stderr",
     "output_type": "stream",
     "text": [
      "C:\\Users\\USER\\anaconda3\\envs\\jupyterlab\\lib\\site-packages\\requests\\packages\\urllib3\\connectionpool.py:852: InsecureRequestWarning: Unverified HTTPS request is being made. Adding certificate verification is strongly advised. See: https://urllib3.readthedocs.io/en/latest/advanced-usage.html#ssl-warnings\n",
      "  InsecureRequestWarning)\n"
     ]
    },
    {
     "name": "stdout",
     "output_type": "stream",
     "text": [
      "访问https://www.cnipa.gov.cn/tjxx/jianbao/year2010/h/h1.html\n",
      "访问https://www.cnipa.gov.cn/tjxx/jianbao/year2010/h/h2.html\n",
      "访问https://www.cnipa.gov.cn/tjxx/jianbao/year2010/h/h3.html\n",
      "访问https://www.cnipa.gov.cn/tjxx/jianbao/year2010/h/h4.html\n",
      "访问https://www.cnipa.gov.cn/tjxx/jianbao/year2010/h/h5.html\n",
      "访问https://www.cnipa.gov.cn/tjxx/jianbao/year2010/h/h6.html\n"
     ]
    },
    {
     "name": "stderr",
     "output_type": "stream",
     "text": [
      "C:\\Users\\USER\\anaconda3\\envs\\jupyterlab\\lib\\site-packages\\requests\\packages\\urllib3\\connectionpool.py:852: InsecureRequestWarning: Unverified HTTPS request is being made. Adding certificate verification is strongly advised. See: https://urllib3.readthedocs.io/en/latest/advanced-usage.html#ssl-warnings\n",
      "  InsecureRequestWarning)\n",
      " 27%|██▋       | 3/11 [01:15<03:18, 24.81s/it]C:\\Users\\USER\\anaconda3\\envs\\jupyterlab\\lib\\site-packages\\requests\\packages\\urllib3\\connectionpool.py:852: InsecureRequestWarning: Unverified HTTPS request is being made. Adding certificate verification is strongly advised. See: https://urllib3.readthedocs.io/en/latest/advanced-usage.html#ssl-warnings\n",
      "  InsecureRequestWarning)\n",
      "C:\\Users\\USER\\anaconda3\\envs\\jupyterlab\\lib\\site-packages\\requests\\packages\\urllib3\\connectionpool.py:852: InsecureRequestWarning: Unverified HTTPS request is being made. Adding certificate verification is strongly advised. See: https://urllib3.readthedocs.io/en/latest/advanced-usage.html#ssl-warnings\n",
      "  InsecureRequestWarning)\n"
     ]
    },
    {
     "name": "stdout",
     "output_type": "stream",
     "text": [
      "访问https://www.cnipa.gov.cn/tjxx/jianbao/year2011/a/a1.html\n",
      "访问https://www.cnipa.gov.cn/tjxx/jianbao/year2011/a/a10.html\n",
      "访问https://www.cnipa.gov.cn/tjxx/jianbao/year2011/a/a11.html\n",
      "访问https://www.cnipa.gov.cn/tjxx/jianbao/year2011/a/a12.html\n",
      "访问https://www.cnipa.gov.cn/tjxx/jianbao/year2011/a/a13.html\n",
      "访问https://www.cnipa.gov.cn/tjxx/jianbao/year2011/a/a14.html\n",
      "访问https://www.cnipa.gov.cn/tjxx/jianbao/year2011/a/a15.html\n",
      "访问https://www.cnipa.gov.cn/tjxx/jianbao/year2011/a/a16.html\n",
      "访问https://www.cnipa.gov.cn/tjxx/jianbao/year2011/a/a17.html\n",
      "访问https://www.cnipa.gov.cn/tjxx/jianbao/year2011/a/a18.html\n",
      "访问https://www.cnipa.gov.cn/tjxx/jianbao/year2011/a/a2.html\n",
      "访问https://www.cnipa.gov.cn/tjxx/jianbao/year2011/a/a3.html\n",
      "访问https://www.cnipa.gov.cn/tjxx/jianbao/year2011/a/a4.html\n",
      "访问https://www.cnipa.gov.cn/tjxx/jianbao/year2011/a/a5.html\n",
      "访问https://www.cnipa.gov.cn/tjxx/jianbao/year2011/a/a6.html\n",
      "访问https://www.cnipa.gov.cn/tjxx/jianbao/year2011/a/a7.html\n",
      "访问https://www.cnipa.gov.cn/tjxx/jianbao/year2011/a/a8.html\n",
      "访问https://www.cnipa.gov.cn/tjxx/jianbao/year2011/a/a9.html\n"
     ]
    },
    {
     "name": "stderr",
     "output_type": "stream",
     "text": [
      "C:\\Users\\USER\\anaconda3\\envs\\jupyterlab\\lib\\site-packages\\requests\\packages\\urllib3\\connectionpool.py:852: InsecureRequestWarning: Unverified HTTPS request is being made. Adding certificate verification is strongly advised. See: https://urllib3.readthedocs.io/en/latest/advanced-usage.html#ssl-warnings\n",
      "  InsecureRequestWarning)\n"
     ]
    },
    {
     "name": "stdout",
     "output_type": "stream",
     "text": [
      "访问https://www.cnipa.gov.cn/tjxx/jianbao/year2011/b/b1.html\n",
      "访问https://www.cnipa.gov.cn/tjxx/jianbao/year2011/b/b10.html\n",
      "访问https://www.cnipa.gov.cn/tjxx/jianbao/year2011/b/b11.html\n",
      "访问https://www.cnipa.gov.cn/tjxx/jianbao/year2011/b/b12.html\n",
      "访问https://www.cnipa.gov.cn/tjxx/jianbao/year2011/b/b13.html\n",
      "访问https://www.cnipa.gov.cn/tjxx/jianbao/year2011/b/b14.html\n",
      "访问https://www.cnipa.gov.cn/tjxx/jianbao/year2011/b/b2.html\n",
      "访问https://www.cnipa.gov.cn/tjxx/jianbao/year2011/b/b3.html\n",
      "访问https://www.cnipa.gov.cn/tjxx/jianbao/year2011/b/b4.html\n",
      "访问https://www.cnipa.gov.cn/tjxx/jianbao/year2011/b/b5.html\n",
      "访问https://www.cnipa.gov.cn/tjxx/jianbao/year2011/b/b6.html\n",
      "访问https://www.cnipa.gov.cn/tjxx/jianbao/year2011/b/b7.html\n",
      "访问https://www.cnipa.gov.cn/tjxx/jianbao/year2011/b/b8.html\n",
      "访问https://www.cnipa.gov.cn/tjxx/jianbao/year2011/b/b9.html\n"
     ]
    },
    {
     "name": "stderr",
     "output_type": "stream",
     "text": [
      "C:\\Users\\USER\\anaconda3\\envs\\jupyterlab\\lib\\site-packages\\requests\\packages\\urllib3\\connectionpool.py:852: InsecureRequestWarning: Unverified HTTPS request is being made. Adding certificate verification is strongly advised. See: https://urllib3.readthedocs.io/en/latest/advanced-usage.html#ssl-warnings\n",
      "  InsecureRequestWarning)\n"
     ]
    },
    {
     "name": "stdout",
     "output_type": "stream",
     "text": [
      "访问https://www.cnipa.gov.cn/tjxx/jianbao/year2011/c/c1.html\n",
      "访问https://www.cnipa.gov.cn/tjxx/jianbao/year2011/c/c2.html\n",
      "访问https://www.cnipa.gov.cn/tjxx/jianbao/year2011/c/c3.html\n",
      "访问https://www.cnipa.gov.cn/tjxx/jianbao/year2011/c/c4.html\n",
      "访问https://www.cnipa.gov.cn/tjxx/jianbao/year2011/c/c5.html\n",
      "访问https://www.cnipa.gov.cn/tjxx/jianbao/year2011/c/c6.html\n",
      "访问https://www.cnipa.gov.cn/tjxx/jianbao/year2011/c/c7.html\n",
      "访问https://www.cnipa.gov.cn/tjxx/jianbao/year2011/c/c8.html\n",
      "访问https://www.cnipa.gov.cn/tjxx/jianbao/year2011/c/c9.html\n"
     ]
    },
    {
     "name": "stderr",
     "output_type": "stream",
     "text": [
      "C:\\Users\\USER\\anaconda3\\envs\\jupyterlab\\lib\\site-packages\\requests\\packages\\urllib3\\connectionpool.py:852: InsecureRequestWarning: Unverified HTTPS request is being made. Adding certificate verification is strongly advised. See: https://urllib3.readthedocs.io/en/latest/advanced-usage.html#ssl-warnings\n",
      "  InsecureRequestWarning)\n"
     ]
    },
    {
     "name": "stdout",
     "output_type": "stream",
     "text": [
      "访问https://www.cnipa.gov.cn/tjxx/jianbao/year2011/d/d1.html\n",
      "访问https://www.cnipa.gov.cn/tjxx/jianbao/year2011/d/d2.html\n",
      "访问https://www.cnipa.gov.cn/tjxx/jianbao/year2011/d/d3.html\n",
      "访问https://www.cnipa.gov.cn/tjxx/jianbao/year2011/d/d4.html\n"
     ]
    },
    {
     "name": "stderr",
     "output_type": "stream",
     "text": [
      "C:\\Users\\USER\\anaconda3\\envs\\jupyterlab\\lib\\site-packages\\requests\\packages\\urllib3\\connectionpool.py:852: InsecureRequestWarning: Unverified HTTPS request is being made. Adding certificate verification is strongly advised. See: https://urllib3.readthedocs.io/en/latest/advanced-usage.html#ssl-warnings\n",
      "  InsecureRequestWarning)\n"
     ]
    },
    {
     "name": "stdout",
     "output_type": "stream",
     "text": [
      "访问https://www.cnipa.gov.cn/tjxx/jianbao/year2011/e/e1.html\n",
      "访问https://www.cnipa.gov.cn/tjxx/jianbao/year2011/e/e2.html\n",
      "访问https://www.cnipa.gov.cn/tjxx/jianbao/year2011/e/e3.html\n",
      "访问https://www.cnipa.gov.cn/tjxx/jianbao/year2011/e/e4.html\n",
      "访问https://www.cnipa.gov.cn/tjxx/jianbao/year2011/e/e5.html\n",
      "访问https://www.cnipa.gov.cn/tjxx/jianbao/year2011/e/e6.html\n"
     ]
    },
    {
     "name": "stderr",
     "output_type": "stream",
     "text": [
      "C:\\Users\\USER\\anaconda3\\envs\\jupyterlab\\lib\\site-packages\\requests\\packages\\urllib3\\connectionpool.py:852: InsecureRequestWarning: Unverified HTTPS request is being made. Adding certificate verification is strongly advised. See: https://urllib3.readthedocs.io/en/latest/advanced-usage.html#ssl-warnings\n",
      "  InsecureRequestWarning)\n"
     ]
    },
    {
     "name": "stdout",
     "output_type": "stream",
     "text": [
      "访问https://www.cnipa.gov.cn/tjxx/jianbao/year2011/f/f1.html\n",
      "访问https://www.cnipa.gov.cn/tjxx/jianbao/year2011/f/f2.html\n",
      "访问https://www.cnipa.gov.cn/tjxx/jianbao/year2011/f/f3.html\n",
      "访问https://www.cnipa.gov.cn/tjxx/jianbao/year2011/f/f4.html"
     ]
    },
    {
     "name": "stderr",
     "output_type": "stream",
     "text": [
      "C:\\Users\\USER\\anaconda3\\envs\\jupyterlab\\lib\\site-packages\\requests\\packages\\urllib3\\connectionpool.py:852: InsecureRequestWarning: Unverified HTTPS request is being made. Adding certificate verification is strongly advised. See: https://urllib3.readthedocs.io/en/latest/advanced-usage.html#ssl-warnings\n",
      "  InsecureRequestWarning)\n"
     ]
    },
    {
     "name": "stdout",
     "output_type": "stream",
     "text": [
      "\n",
      "访问https://www.cnipa.gov.cn/tjxx/jianbao/year2011/g/g1.html\n",
      "访问https://www.cnipa.gov.cn/tjxx/jianbao/year2011/g/g2.html\n",
      "访问https://www.cnipa.gov.cn/tjxx/jianbao/year2011/g/g3.html\n",
      "访问https://www.cnipa.gov.cn/tjxx/jianbao/year2011/g/g4.html\n",
      "访问https://www.cnipa.gov.cn/tjxx/jianbao/year2011/g/g5.html\n",
      "访问https://www.cnipa.gov.cn/tjxx/jianbao/year2011/g/g6.html\n"
     ]
    },
    {
     "name": "stderr",
     "output_type": "stream",
     "text": [
      "C:\\Users\\USER\\anaconda3\\envs\\jupyterlab\\lib\\site-packages\\requests\\packages\\urllib3\\connectionpool.py:852: InsecureRequestWarning: Unverified HTTPS request is being made. Adding certificate verification is strongly advised. See: https://urllib3.readthedocs.io/en/latest/advanced-usage.html#ssl-warnings\n",
      "  InsecureRequestWarning)\n"
     ]
    },
    {
     "name": "stdout",
     "output_type": "stream",
     "text": [
      "访问https://www.cnipa.gov.cn/tjxx/jianbao/year2011/h/h1.html\n",
      "访问https://www.cnipa.gov.cn/tjxx/jianbao/year2011/h/h2.html\n",
      "访问https://www.cnipa.gov.cn/tjxx/jianbao/year2011/h/h3.html\n",
      "访问https://www.cnipa.gov.cn/tjxx/jianbao/year2011/h/h4.html\n",
      "访问https://www.cnipa.gov.cn/tjxx/jianbao/year2011/h/h5.html\n",
      "访问https://www.cnipa.gov.cn/tjxx/jianbao/year2011/h/h6.html\n"
     ]
    },
    {
     "name": "stderr",
     "output_type": "stream",
     "text": [
      "C:\\Users\\USER\\anaconda3\\envs\\jupyterlab\\lib\\site-packages\\requests\\packages\\urllib3\\connectionpool.py:852: InsecureRequestWarning: Unverified HTTPS request is being made. Adding certificate verification is strongly advised. See: https://urllib3.readthedocs.io/en/latest/advanced-usage.html#ssl-warnings\n",
      "  InsecureRequestWarning)\n",
      " 36%|███▋      | 4/11 [01:40<02:54, 24.96s/it]C:\\Users\\USER\\anaconda3\\envs\\jupyterlab\\lib\\site-packages\\requests\\packages\\urllib3\\connectionpool.py:852: InsecureRequestWarning: Unverified HTTPS request is being made. Adding certificate verification is strongly advised. See: https://urllib3.readthedocs.io/en/latest/advanced-usage.html#ssl-warnings\n",
      "  InsecureRequestWarning)\n",
      "C:\\Users\\USER\\anaconda3\\envs\\jupyterlab\\lib\\site-packages\\requests\\packages\\urllib3\\connectionpool.py:852: InsecureRequestWarning: Unverified HTTPS request is being made. Adding certificate verification is strongly advised. See: https://urllib3.readthedocs.io/en/latest/advanced-usage.html#ssl-warnings\n",
      "  InsecureRequestWarning)\n"
     ]
    },
    {
     "name": "stdout",
     "output_type": "stream",
     "text": [
      "访问https://www.cnipa.gov.cn/tjxx/jianbao/year2012/a/a1.html\n",
      "访问https://www.cnipa.gov.cn/tjxx/jianbao/year2012/a/a10.html\n",
      "访问https://www.cnipa.gov.cn/tjxx/jianbao/year2012/a/a11.html\n",
      "访问https://www.cnipa.gov.cn/tjxx/jianbao/year2012/a/a12.html\n",
      "访问https://www.cnipa.gov.cn/tjxx/jianbao/year2012/a/a13.html\n",
      "访问https://www.cnipa.gov.cn/tjxx/jianbao/year2012/a/a14.html\n",
      "访问https://www.cnipa.gov.cn/tjxx/jianbao/year2012/a/a15.html\n",
      "访问https://www.cnipa.gov.cn/tjxx/jianbao/year2012/a/a16.html\n",
      "访问https://www.cnipa.gov.cn/tjxx/jianbao/year2012/a/a17.html\n",
      "访问https://www.cnipa.gov.cn/tjxx/jianbao/year2012/a/a18.html\n",
      "访问https://www.cnipa.gov.cn/tjxx/jianbao/year2012/a/a2.html\n",
      "访问https://www.cnipa.gov.cn/tjxx/jianbao/year2012/a/a3.html\n",
      "访问https://www.cnipa.gov.cn/tjxx/jianbao/year2012/a/a4.html\n",
      "访问https://www.cnipa.gov.cn/tjxx/jianbao/year2012/a/a5.html\n",
      "访问https://www.cnipa.gov.cn/tjxx/jianbao/year2012/a/a6.html\n",
      "访问https://www.cnipa.gov.cn/tjxx/jianbao/year2012/a/a7.html\n",
      "访问https://www.cnipa.gov.cn/tjxx/jianbao/year2012/a/a8.html\n",
      "访问https://www.cnipa.gov.cn/tjxx/jianbao/year2012/a/a9.html\n"
     ]
    },
    {
     "name": "stderr",
     "output_type": "stream",
     "text": [
      "C:\\Users\\USER\\anaconda3\\envs\\jupyterlab\\lib\\site-packages\\requests\\packages\\urllib3\\connectionpool.py:852: InsecureRequestWarning: Unverified HTTPS request is being made. Adding certificate verification is strongly advised. See: https://urllib3.readthedocs.io/en/latest/advanced-usage.html#ssl-warnings\n",
      "  InsecureRequestWarning)\n"
     ]
    },
    {
     "name": "stdout",
     "output_type": "stream",
     "text": [
      "访问https://www.cnipa.gov.cn/tjxx/jianbao/year2012/b/b1.html\n",
      "访问https://www.cnipa.gov.cn/tjxx/jianbao/year2012/b/b10.html\n",
      "访问https://www.cnipa.gov.cn/tjxx/jianbao/year2012/b/b11.html\n",
      "访问https://www.cnipa.gov.cn/tjxx/jianbao/year2012/b/b12.html\n",
      "访问https://www.cnipa.gov.cn/tjxx/jianbao/year2012/b/b13.html\n",
      "访问https://www.cnipa.gov.cn/tjxx/jianbao/year2012/b/b14.html\n",
      "访问https://www.cnipa.gov.cn/tjxx/jianbao/year2012/b/b2.html\n",
      "访问https://www.cnipa.gov.cn/tjxx/jianbao/year2012/b/b3.html\n",
      "访问https://www.cnipa.gov.cn/tjxx/jianbao/year2012/b/b4.html\n",
      "访问https://www.cnipa.gov.cn/tjxx/jianbao/year2012/b/b5.html\n",
      "访问https://www.cnipa.gov.cn/tjxx/jianbao/year2012/b/b6.html\n",
      "访问https://www.cnipa.gov.cn/tjxx/jianbao/year2012/b/b7.html\n",
      "访问https://www.cnipa.gov.cn/tjxx/jianbao/year2012/b/b8.html\n",
      "访问https://www.cnipa.gov.cn/tjxx/jianbao/year2012/b/b9.html\n"
     ]
    },
    {
     "name": "stderr",
     "output_type": "stream",
     "text": [
      "C:\\Users\\USER\\anaconda3\\envs\\jupyterlab\\lib\\site-packages\\requests\\packages\\urllib3\\connectionpool.py:852: InsecureRequestWarning: Unverified HTTPS request is being made. Adding certificate verification is strongly advised. See: https://urllib3.readthedocs.io/en/latest/advanced-usage.html#ssl-warnings\n",
      "  InsecureRequestWarning)\n"
     ]
    },
    {
     "name": "stdout",
     "output_type": "stream",
     "text": [
      "访问https://www.cnipa.gov.cn/tjxx/jianbao/year2012/c/c1.html\n",
      "访问https://www.cnipa.gov.cn/tjxx/jianbao/year2012/c/c2.html\n",
      "访问https://www.cnipa.gov.cn/tjxx/jianbao/year2012/c/c3.html\n",
      "访问https://www.cnipa.gov.cn/tjxx/jianbao/year2012/c/c4.html\n",
      "访问https://www.cnipa.gov.cn/tjxx/jianbao/year2012/c/c5.html\n",
      "访问https://www.cnipa.gov.cn/tjxx/jianbao/year2012/c/c6.html\n",
      "访问https://www.cnipa.gov.cn/tjxx/jianbao/year2012/c/c7.html\n",
      "访问https://www.cnipa.gov.cn/tjxx/jianbao/year2012/c/c8.html\n",
      "访问https://www.cnipa.gov.cn/tjxx/jianbao/year2012/c/c9.html\n"
     ]
    },
    {
     "name": "stderr",
     "output_type": "stream",
     "text": [
      "C:\\Users\\USER\\anaconda3\\envs\\jupyterlab\\lib\\site-packages\\requests\\packages\\urllib3\\connectionpool.py:852: InsecureRequestWarning: Unverified HTTPS request is being made. Adding certificate verification is strongly advised. See: https://urllib3.readthedocs.io/en/latest/advanced-usage.html#ssl-warnings\n",
      "  InsecureRequestWarning)\n"
     ]
    },
    {
     "name": "stdout",
     "output_type": "stream",
     "text": [
      "访问https://www.cnipa.gov.cn/tjxx/jianbao/year2012/d/d1.html\n",
      "访问https://www.cnipa.gov.cn/tjxx/jianbao/year2012/d/d2.html\n",
      "访问https://www.cnipa.gov.cn/tjxx/jianbao/year2012/d/d3.html\n",
      "访问https://www.cnipa.gov.cn/tjxx/jianbao/year2012/d/d4.html\n"
     ]
    },
    {
     "name": "stderr",
     "output_type": "stream",
     "text": [
      "C:\\Users\\USER\\anaconda3\\envs\\jupyterlab\\lib\\site-packages\\requests\\packages\\urllib3\\connectionpool.py:852: InsecureRequestWarning: Unverified HTTPS request is being made. Adding certificate verification is strongly advised. See: https://urllib3.readthedocs.io/en/latest/advanced-usage.html#ssl-warnings\n",
      "  InsecureRequestWarning)\n"
     ]
    },
    {
     "name": "stdout",
     "output_type": "stream",
     "text": [
      "访问https://www.cnipa.gov.cn/tjxx/jianbao/year2012/e/e1.html\n",
      "访问https://www.cnipa.gov.cn/tjxx/jianbao/year2012/e/e2.html\n",
      "访问https://www.cnipa.gov.cn/tjxx/jianbao/year2012/e/e3.html\n",
      "访问https://www.cnipa.gov.cn/tjxx/jianbao/year2012/e/e4.html\n",
      "访问https://www.cnipa.gov.cn/tjxx/jianbao/year2012/e/e5.html\n",
      "访问https://www.cnipa.gov.cn/tjxx/jianbao/year2012/e/e6.html\n"
     ]
    },
    {
     "name": "stderr",
     "output_type": "stream",
     "text": [
      "C:\\Users\\USER\\anaconda3\\envs\\jupyterlab\\lib\\site-packages\\requests\\packages\\urllib3\\connectionpool.py:852: InsecureRequestWarning: Unverified HTTPS request is being made. Adding certificate verification is strongly advised. See: https://urllib3.readthedocs.io/en/latest/advanced-usage.html#ssl-warnings\n",
      "  InsecureRequestWarning)\n"
     ]
    },
    {
     "name": "stdout",
     "output_type": "stream",
     "text": [
      "访问https://www.cnipa.gov.cn/tjxx/jianbao/year2012/f/f1.html\n",
      "访问https://www.cnipa.gov.cn/tjxx/jianbao/year2012/f/f2.html\n",
      "访问https://www.cnipa.gov.cn/tjxx/jianbao/year2012/f/f3.html\n",
      "访问https://www.cnipa.gov.cn/tjxx/jianbao/year2012/f/f4.html\n"
     ]
    },
    {
     "name": "stderr",
     "output_type": "stream",
     "text": [
      "C:\\Users\\USER\\anaconda3\\envs\\jupyterlab\\lib\\site-packages\\requests\\packages\\urllib3\\connectionpool.py:852: InsecureRequestWarning: Unverified HTTPS request is being made. Adding certificate verification is strongly advised. See: https://urllib3.readthedocs.io/en/latest/advanced-usage.html#ssl-warnings\n",
      "  InsecureRequestWarning)\n"
     ]
    },
    {
     "name": "stdout",
     "output_type": "stream",
     "text": [
      "访问https://www.cnipa.gov.cn/tjxx/jianbao/year2012/h/h1.html\n",
      "访问https://www.cnipa.gov.cn/tjxx/jianbao/year2012/h/h2.html\n",
      "访问https://www.cnipa.gov.cn/tjxx/jianbao/year2012/h/h3.html\n",
      "访问https://www.cnipa.gov.cn/tjxx/jianbao/year2012/h/h4.html\n",
      "访问https://www.cnipa.gov.cn/tjxx/jianbao/year2012/h/h5.html\n",
      "访问https://www.cnipa.gov.cn/tjxx/jianbao/year2012/h/h6.html\n"
     ]
    },
    {
     "name": "stderr",
     "output_type": "stream",
     "text": [
      "C:\\Users\\USER\\anaconda3\\envs\\jupyterlab\\lib\\site-packages\\requests\\packages\\urllib3\\connectionpool.py:852: InsecureRequestWarning: Unverified HTTPS request is being made. Adding certificate verification is strongly advised. See: https://urllib3.readthedocs.io/en/latest/advanced-usage.html#ssl-warnings\n",
      "  InsecureRequestWarning)\n",
      " 45%|████▌     | 5/11 [02:04<02:26, 24.48s/it]C:\\Users\\USER\\anaconda3\\envs\\jupyterlab\\lib\\site-packages\\requests\\packages\\urllib3\\connectionpool.py:852: InsecureRequestWarning: Unverified HTTPS request is being made. Adding certificate verification is strongly advised. See: https://urllib3.readthedocs.io/en/latest/advanced-usage.html#ssl-warnings\n",
      "  InsecureRequestWarning)\n",
      "C:\\Users\\USER\\anaconda3\\envs\\jupyterlab\\lib\\site-packages\\requests\\packages\\urllib3\\connectionpool.py:852: InsecureRequestWarning: Unverified HTTPS request is being made. Adding certificate verification is strongly advised. See: https://urllib3.readthedocs.io/en/latest/advanced-usage.html#ssl-warnings\n",
      "  InsecureRequestWarning)\n"
     ]
    },
    {
     "name": "stdout",
     "output_type": "stream",
     "text": [
      "访问https://www.cnipa.gov.cn/tjxx/jianbao/year2013/a/a1.html\n",
      "访问https://www.cnipa.gov.cn/tjxx/jianbao/year2013/a/a10.html\n",
      "访问https://www.cnipa.gov.cn/tjxx/jianbao/year2013/a/a11.html\n",
      "访问https://www.cnipa.gov.cn/tjxx/jianbao/year2013/a/a12.html\n",
      "访问https://www.cnipa.gov.cn/tjxx/jianbao/year2013/a/a13.html\n",
      "访问https://www.cnipa.gov.cn/tjxx/jianbao/year2013/a/a14.html\n",
      "访问https://www.cnipa.gov.cn/tjxx/jianbao/year2013/a/a15.html\n",
      "访问https://www.cnipa.gov.cn/tjxx/jianbao/year2013/a/a16.html\n",
      "访问https://www.cnipa.gov.cn/tjxx/jianbao/year2013/a/a17.html\n",
      "访问https://www.cnipa.gov.cn/tjxx/jianbao/year2013/a/a18.html\n",
      "访问https://www.cnipa.gov.cn/tjxx/jianbao/year2013/a/a2.html\n",
      "访问https://www.cnipa.gov.cn/tjxx/jianbao/year2013/a/a3.html\n",
      "访问https://www.cnipa.gov.cn/tjxx/jianbao/year2013/a/a4.html\n",
      "访问https://www.cnipa.gov.cn/tjxx/jianbao/year2013/a/a5.html\n",
      "访问https://www.cnipa.gov.cn/tjxx/jianbao/year2013/a/a6.html\n",
      "访问https://www.cnipa.gov.cn/tjxx/jianbao/year2013/a/a7.html\n",
      "访问https://www.cnipa.gov.cn/tjxx/jianbao/year2013/a/a8.html\n",
      "访问https://www.cnipa.gov.cn/tjxx/jianbao/year2013/a/a9.html\n"
     ]
    },
    {
     "name": "stderr",
     "output_type": "stream",
     "text": [
      "C:\\Users\\USER\\anaconda3\\envs\\jupyterlab\\lib\\site-packages\\requests\\packages\\urllib3\\connectionpool.py:852: InsecureRequestWarning: Unverified HTTPS request is being made. Adding certificate verification is strongly advised. See: https://urllib3.readthedocs.io/en/latest/advanced-usage.html#ssl-warnings\n",
      "  InsecureRequestWarning)\n"
     ]
    },
    {
     "name": "stdout",
     "output_type": "stream",
     "text": [
      "访问https://www.cnipa.gov.cn/tjxx/jianbao/year2013/b/b1.html\n",
      "访问https://www.cnipa.gov.cn/tjxx/jianbao/year2013/b/b10.html\n",
      "访问https://www.cnipa.gov.cn/tjxx/jianbao/year2013/b/b11.html\n",
      "访问https://www.cnipa.gov.cn/tjxx/jianbao/year2013/b/b12.html\n",
      "访问https://www.cnipa.gov.cn/tjxx/jianbao/year2013/b/b13.html\n",
      "访问https://www.cnipa.gov.cn/tjxx/jianbao/year2013/b/b14.html\n",
      "访问https://www.cnipa.gov.cn/tjxx/jianbao/year2013/b/b2.html\n",
      "访问https://www.cnipa.gov.cn/tjxx/jianbao/year2013/b/b3.html\n",
      "访问https://www.cnipa.gov.cn/tjxx/jianbao/year2013/b/b4.html\n",
      "访问https://www.cnipa.gov.cn/tjxx/jianbao/year2013/b/b5.html\n",
      "访问https://www.cnipa.gov.cn/tjxx/jianbao/year2013/b/b6.html\n",
      "访问https://www.cnipa.gov.cn/tjxx/jianbao/year2013/b/b7.html\n",
      "访问https://www.cnipa.gov.cn/tjxx/jianbao/year2013/b/b8.html\n",
      "访问https://www.cnipa.gov.cn/tjxx/jianbao/year2013/b/b9.html\n"
     ]
    },
    {
     "name": "stderr",
     "output_type": "stream",
     "text": [
      "C:\\Users\\USER\\anaconda3\\envs\\jupyterlab\\lib\\site-packages\\requests\\packages\\urllib3\\connectionpool.py:852: InsecureRequestWarning: Unverified HTTPS request is being made. Adding certificate verification is strongly advised. See: https://urllib3.readthedocs.io/en/latest/advanced-usage.html#ssl-warnings\n",
      "  InsecureRequestWarning)\n"
     ]
    },
    {
     "name": "stdout",
     "output_type": "stream",
     "text": [
      "访问https://www.cnipa.gov.cn/tjxx/jianbao/year2013/c/c1.html\n",
      "访问https://www.cnipa.gov.cn/tjxx/jianbao/year2013/c/c2.html\n",
      "访问https://www.cnipa.gov.cn/tjxx/jianbao/year2013/c/c3.html\n",
      "访问https://www.cnipa.gov.cn/tjxx/jianbao/year2013/c/c4.html\n",
      "访问https://www.cnipa.gov.cn/tjxx/jianbao/year2013/c/c5.html\n",
      "访问https://www.cnipa.gov.cn/tjxx/jianbao/year2013/c/c6.html\n",
      "访问https://www.cnipa.gov.cn/tjxx/jianbao/year2013/c/c7.html\n",
      "访问https://www.cnipa.gov.cn/tjxx/jianbao/year2013/c/c8.html\n",
      "访问https://www.cnipa.gov.cn/tjxx/jianbao/year2013/c/c9.html\n"
     ]
    },
    {
     "name": "stderr",
     "output_type": "stream",
     "text": [
      "C:\\Users\\USER\\anaconda3\\envs\\jupyterlab\\lib\\site-packages\\requests\\packages\\urllib3\\connectionpool.py:852: InsecureRequestWarning: Unverified HTTPS request is being made. Adding certificate verification is strongly advised. See: https://urllib3.readthedocs.io/en/latest/advanced-usage.html#ssl-warnings\n",
      "  InsecureRequestWarning)\n"
     ]
    },
    {
     "name": "stdout",
     "output_type": "stream",
     "text": [
      "访问https://www.cnipa.gov.cn/tjxx/jianbao/year2013/d/d1.html\n",
      "访问https://www.cnipa.gov.cn/tjxx/jianbao/year2013/d/d2.html\n",
      "访问https://www.cnipa.gov.cn/tjxx/jianbao/year2013/d/d3.html\n",
      "访问https://www.cnipa.gov.cn/tjxx/jianbao/year2013/d/d4.html\n"
     ]
    },
    {
     "name": "stderr",
     "output_type": "stream",
     "text": [
      "C:\\Users\\USER\\anaconda3\\envs\\jupyterlab\\lib\\site-packages\\requests\\packages\\urllib3\\connectionpool.py:852: InsecureRequestWarning: Unverified HTTPS request is being made. Adding certificate verification is strongly advised. See: https://urllib3.readthedocs.io/en/latest/advanced-usage.html#ssl-warnings\n",
      "  InsecureRequestWarning)\n"
     ]
    },
    {
     "name": "stdout",
     "output_type": "stream",
     "text": [
      "访问https://www.cnipa.gov.cn/tjxx/jianbao/year2013/e/e1.html\n",
      "访问https://www.cnipa.gov.cn/tjxx/jianbao/year2013/e/e2.html\n",
      "访问https://www.cnipa.gov.cn/tjxx/jianbao/year2013/e/e3.html\n",
      "访问https://www.cnipa.gov.cn/tjxx/jianbao/year2013/e/e4.html\n",
      "访问https://www.cnipa.gov.cn/tjxx/jianbao/year2013/e/e5.html\n",
      "访问https://www.cnipa.gov.cn/tjxx/jianbao/year2013/e/e6.html\n"
     ]
    },
    {
     "name": "stderr",
     "output_type": "stream",
     "text": [
      "C:\\Users\\USER\\anaconda3\\envs\\jupyterlab\\lib\\site-packages\\requests\\packages\\urllib3\\connectionpool.py:852: InsecureRequestWarning: Unverified HTTPS request is being made. Adding certificate verification is strongly advised. See: https://urllib3.readthedocs.io/en/latest/advanced-usage.html#ssl-warnings\n",
      "  InsecureRequestWarning)\n"
     ]
    },
    {
     "name": "stdout",
     "output_type": "stream",
     "text": [
      "访问https://www.cnipa.gov.cn/tjxx/jianbao/year2013/f/f1.html\n",
      "访问https://www.cnipa.gov.cn/tjxx/jianbao/year2013/f/f2.html\n",
      "访问https://www.cnipa.gov.cn/tjxx/jianbao/year2013/f/f3.html\n",
      "访问https://www.cnipa.gov.cn/tjxx/jianbao/year2013/f/f4.html\n"
     ]
    },
    {
     "name": "stderr",
     "output_type": "stream",
     "text": [
      "C:\\Users\\USER\\anaconda3\\envs\\jupyterlab\\lib\\site-packages\\requests\\packages\\urllib3\\connectionpool.py:852: InsecureRequestWarning: Unverified HTTPS request is being made. Adding certificate verification is strongly advised. See: https://urllib3.readthedocs.io/en/latest/advanced-usage.html#ssl-warnings\n",
      "  InsecureRequestWarning)\n"
     ]
    },
    {
     "name": "stdout",
     "output_type": "stream",
     "text": [
      "访问https://www.cnipa.gov.cn/tjxx/jianbao/year2013/h/h1.html\n",
      "访问https://www.cnipa.gov.cn/tjxx/jianbao/year2013/h/h2.html\n",
      "访问https://www.cnipa.gov.cn/tjxx/jianbao/year2013/h/h3.html\n",
      "访问https://www.cnipa.gov.cn/tjxx/jianbao/year2013/h/h4.html\n",
      "访问https://www.cnipa.gov.cn/tjxx/jianbao/year2013/h/h5.html\n",
      "访问https://www.cnipa.gov.cn/tjxx/jianbao/year2013/h/h6.html\n"
     ]
    },
    {
     "name": "stderr",
     "output_type": "stream",
     "text": [
      "C:\\Users\\USER\\anaconda3\\envs\\jupyterlab\\lib\\site-packages\\requests\\packages\\urllib3\\connectionpool.py:852: InsecureRequestWarning: Unverified HTTPS request is being made. Adding certificate verification is strongly advised. See: https://urllib3.readthedocs.io/en/latest/advanced-usage.html#ssl-warnings\n",
      "  InsecureRequestWarning)\n",
      " 55%|█████▍    | 6/11 [02:27<02:00, 24.09s/it]C:\\Users\\USER\\anaconda3\\envs\\jupyterlab\\lib\\site-packages\\requests\\packages\\urllib3\\connectionpool.py:852: InsecureRequestWarning: Unverified HTTPS request is being made. Adding certificate verification is strongly advised. See: https://urllib3.readthedocs.io/en/latest/advanced-usage.html#ssl-warnings\n",
      "  InsecureRequestWarning)\n",
      "C:\\Users\\USER\\anaconda3\\envs\\jupyterlab\\lib\\site-packages\\requests\\packages\\urllib3\\connectionpool.py:852: InsecureRequestWarning: Unverified HTTPS request is being made. Adding certificate verification is strongly advised. See: https://urllib3.readthedocs.io/en/latest/advanced-usage.html#ssl-warnings\n",
      "  InsecureRequestWarning)\n"
     ]
    },
    {
     "name": "stdout",
     "output_type": "stream",
     "text": [
      "访问https://www.cnipa.gov.cn/tjxx/jianbao/year2014/a/a1.html\n",
      "访问https://www.cnipa.gov.cn/tjxx/jianbao/year2014/a/a10.html\n",
      "访问https://www.cnipa.gov.cn/tjxx/jianbao/year2014/a/a11.html\n",
      "访问https://www.cnipa.gov.cn/tjxx/jianbao/year2014/a/a12.html\n",
      "访问https://www.cnipa.gov.cn/tjxx/jianbao/year2014/a/a13.html\n",
      "访问https://www.cnipa.gov.cn/tjxx/jianbao/year2014/a/a14.html\n",
      "访问https://www.cnipa.gov.cn/tjxx/jianbao/year2014/a/a15.html\n",
      "访问https://www.cnipa.gov.cn/tjxx/jianbao/year2014/a/a16.html\n",
      "访问https://www.cnipa.gov.cn/tjxx/jianbao/year2014/a/a17.html\n",
      "访问https://www.cnipa.gov.cn/tjxx/jianbao/year2014/a/a18.html\n",
      "访问https://www.cnipa.gov.cn/tjxx/jianbao/year2014/a/a2.html\n",
      "访问https://www.cnipa.gov.cn/tjxx/jianbao/year2014/a/a3.html\n",
      "访问https://www.cnipa.gov.cn/tjxx/jianbao/year2014/a/a4.html\n",
      "访问https://www.cnipa.gov.cn/tjxx/jianbao/year2014/a/a5.html\n",
      "访问https://www.cnipa.gov.cn/tjxx/jianbao/year2014/a/a6.html\n",
      "访问https://www.cnipa.gov.cn/tjxx/jianbao/year2014/a/a7.html\n",
      "访问https://www.cnipa.gov.cn/tjxx/jianbao/year2014/a/a8.html\n",
      "访问https://www.cnipa.gov.cn/tjxx/jianbao/year2014/a/a9.html\n"
     ]
    },
    {
     "name": "stderr",
     "output_type": "stream",
     "text": [
      "C:\\Users\\USER\\anaconda3\\envs\\jupyterlab\\lib\\site-packages\\requests\\packages\\urllib3\\connectionpool.py:852: InsecureRequestWarning: Unverified HTTPS request is being made. Adding certificate verification is strongly advised. See: https://urllib3.readthedocs.io/en/latest/advanced-usage.html#ssl-warnings\n",
      "  InsecureRequestWarning)\n"
     ]
    },
    {
     "name": "stdout",
     "output_type": "stream",
     "text": [
      "访问https://www.cnipa.gov.cn/tjxx/jianbao/year2014/b/b1.html\n",
      "访问https://www.cnipa.gov.cn/tjxx/jianbao/year2014/b/b10.html\n",
      "访问https://www.cnipa.gov.cn/tjxx/jianbao/year2014/b/b11.html\n",
      "访问https://www.cnipa.gov.cn/tjxx/jianbao/year2014/b/b12.html\n",
      "访问https://www.cnipa.gov.cn/tjxx/jianbao/year2014/b/b13.html\n",
      "访问https://www.cnipa.gov.cn/tjxx/jianbao/year2014/b/b14.html\n",
      "访问https://www.cnipa.gov.cn/tjxx/jianbao/year2014/b/b2.html\n",
      "访问https://www.cnipa.gov.cn/tjxx/jianbao/year2014/b/b3.html\n",
      "访问https://www.cnipa.gov.cn/tjxx/jianbao/year2014/b/b4.html\n",
      "访问https://www.cnipa.gov.cn/tjxx/jianbao/year2014/b/b5.html\n",
      "访问https://www.cnipa.gov.cn/tjxx/jianbao/year2014/b/b6.html\n",
      "访问https://www.cnipa.gov.cn/tjxx/jianbao/year2014/b/b7.html\n",
      "访问https://www.cnipa.gov.cn/tjxx/jianbao/year2014/b/b8.html\n",
      "访问https://www.cnipa.gov.cn/tjxx/jianbao/year2014/b/b9.html\n"
     ]
    },
    {
     "name": "stderr",
     "output_type": "stream",
     "text": [
      "C:\\Users\\USER\\anaconda3\\envs\\jupyterlab\\lib\\site-packages\\requests\\packages\\urllib3\\connectionpool.py:852: InsecureRequestWarning: Unverified HTTPS request is being made. Adding certificate verification is strongly advised. See: https://urllib3.readthedocs.io/en/latest/advanced-usage.html#ssl-warnings\n",
      "  InsecureRequestWarning)\n"
     ]
    },
    {
     "name": "stdout",
     "output_type": "stream",
     "text": [
      "访问https://www.cnipa.gov.cn/tjxx/jianbao/year2014/c/c1.html\n",
      "访问https://www.cnipa.gov.cn/tjxx/jianbao/year2014/c/c2.html\n",
      "访问https://www.cnipa.gov.cn/tjxx/jianbao/year2014/c/c3.html\n",
      "访问https://www.cnipa.gov.cn/tjxx/jianbao/year2014/c/c4.html\n",
      "访问https://www.cnipa.gov.cn/tjxx/jianbao/year2014/c/c5.html\n",
      "访问https://www.cnipa.gov.cn/tjxx/jianbao/year2014/c/c6.html\n",
      "访问https://www.cnipa.gov.cn/tjxx/jianbao/year2014/c/c7.html\n",
      "访问https://www.cnipa.gov.cn/tjxx/jianbao/year2014/c/c8.html\n",
      "访问https://www.cnipa.gov.cn/tjxx/jianbao/year2014/c/c9.html\n"
     ]
    },
    {
     "name": "stderr",
     "output_type": "stream",
     "text": [
      "C:\\Users\\USER\\anaconda3\\envs\\jupyterlab\\lib\\site-packages\\requests\\packages\\urllib3\\connectionpool.py:852: InsecureRequestWarning: Unverified HTTPS request is being made. Adding certificate verification is strongly advised. See: https://urllib3.readthedocs.io/en/latest/advanced-usage.html#ssl-warnings\n",
      "  InsecureRequestWarning)\n"
     ]
    },
    {
     "name": "stdout",
     "output_type": "stream",
     "text": [
      "访问https://www.cnipa.gov.cn/tjxx/jianbao/year2014/d/d1.html\n",
      "访问https://www.cnipa.gov.cn/tjxx/jianbao/year2014/d/d2.html\n",
      "访问https://www.cnipa.gov.cn/tjxx/jianbao/year2014/d/d3.html\n",
      "访问https://www.cnipa.gov.cn/tjxx/jianbao/year2014/d/d4.html\n"
     ]
    },
    {
     "name": "stderr",
     "output_type": "stream",
     "text": [
      "C:\\Users\\USER\\anaconda3\\envs\\jupyterlab\\lib\\site-packages\\requests\\packages\\urllib3\\connectionpool.py:852: InsecureRequestWarning: Unverified HTTPS request is being made. Adding certificate verification is strongly advised. See: https://urllib3.readthedocs.io/en/latest/advanced-usage.html#ssl-warnings\n",
      "  InsecureRequestWarning)\n"
     ]
    },
    {
     "name": "stdout",
     "output_type": "stream",
     "text": [
      "访问https://www.cnipa.gov.cn/tjxx/jianbao/year2014/e/e1.html\n",
      "访问https://www.cnipa.gov.cn/tjxx/jianbao/year2014/e/e2.html\n",
      "访问https://www.cnipa.gov.cn/tjxx/jianbao/year2014/e/e3.html\n",
      "访问https://www.cnipa.gov.cn/tjxx/jianbao/year2014/e/e4.html\n",
      "访问https://www.cnipa.gov.cn/tjxx/jianbao/year2014/e/e5.html\n",
      "访问https://www.cnipa.gov.cn/tjxx/jianbao/year2014/e/e6.html\n"
     ]
    },
    {
     "name": "stderr",
     "output_type": "stream",
     "text": [
      "C:\\Users\\USER\\anaconda3\\envs\\jupyterlab\\lib\\site-packages\\requests\\packages\\urllib3\\connectionpool.py:852: InsecureRequestWarning: Unverified HTTPS request is being made. Adding certificate verification is strongly advised. See: https://urllib3.readthedocs.io/en/latest/advanced-usage.html#ssl-warnings\n",
      "  InsecureRequestWarning)\n"
     ]
    },
    {
     "name": "stdout",
     "output_type": "stream",
     "text": [
      "访问https://www.cnipa.gov.cn/tjxx/jianbao/year2014/f/f1.html\n",
      "访问https://www.cnipa.gov.cn/tjxx/jianbao/year2014/f/f2.html\n",
      "访问https://www.cnipa.gov.cn/tjxx/jianbao/year2014/f/f3.html\n"
     ]
    },
    {
     "name": "stderr",
     "output_type": "stream",
     "text": [
      "C:\\Users\\USER\\anaconda3\\envs\\jupyterlab\\lib\\site-packages\\requests\\packages\\urllib3\\connectionpool.py:852: InsecureRequestWarning: Unverified HTTPS request is being made. Adding certificate verification is strongly advised. See: https://urllib3.readthedocs.io/en/latest/advanced-usage.html#ssl-warnings\n",
      "  InsecureRequestWarning)\n"
     ]
    },
    {
     "name": "stdout",
     "output_type": "stream",
     "text": [
      "访问https://www.cnipa.gov.cn/tjxx/jianbao/year2014/h/h1.html\n",
      "访问https://www.cnipa.gov.cn/tjxx/jianbao/year2014/h/h2.html\n",
      "连接失败https://www.cnipa.gov.cn/tjxx/jianbao/year2014/h/h2.html\n",
      "连接失败https://www.cnipa.gov.cn/tjxx/jianbao/year2014/h/h2.html\n",
      "连接失败https://www.cnipa.gov.cn/tjxx/jianbao/year2014/h/h2.html\n",
      "访问https://www.cnipa.gov.cn/tjxx/jianbao/year2014/h/h3.html\n",
      "访问https://www.cnipa.gov.cn/tjxx/jianbao/year2014/h/h4.html\n",
      "访问https://www.cnipa.gov.cn/tjxx/jianbao/year2014/h/h5.html\n",
      "访问https://www.cnipa.gov.cn/tjxx/jianbao/year2014/h/h6.html\n"
     ]
    },
    {
     "name": "stderr",
     "output_type": "stream",
     "text": [
      "C:\\Users\\USER\\anaconda3\\envs\\jupyterlab\\lib\\site-packages\\requests\\packages\\urllib3\\connectionpool.py:852: InsecureRequestWarning: Unverified HTTPS request is being made. Adding certificate verification is strongly advised. See: https://urllib3.readthedocs.io/en/latest/advanced-usage.html#ssl-warnings\n",
      "  InsecureRequestWarning)\n",
      " 64%|██████▎   | 7/11 [02:51<01:36, 24.01s/it]C:\\Users\\USER\\anaconda3\\envs\\jupyterlab\\lib\\site-packages\\requests\\packages\\urllib3\\connectionpool.py:852: InsecureRequestWarning: Unverified HTTPS request is being made. Adding certificate verification is strongly advised. See: https://urllib3.readthedocs.io/en/latest/advanced-usage.html#ssl-warnings\n",
      "  InsecureRequestWarning)\n",
      "C:\\Users\\USER\\anaconda3\\envs\\jupyterlab\\lib\\site-packages\\requests\\packages\\urllib3\\connectionpool.py:852: InsecureRequestWarning: Unverified HTTPS request is being made. Adding certificate verification is strongly advised. See: https://urllib3.readthedocs.io/en/latest/advanced-usage.html#ssl-warnings\n",
      "  InsecureRequestWarning)\n"
     ]
    },
    {
     "name": "stdout",
     "output_type": "stream",
     "text": [
      "访问https://www.cnipa.gov.cn/tjxx/jianbao/year2015/a/a1.html\n",
      "访问https://www.cnipa.gov.cn/tjxx/jianbao/year2015/a/a10.html\n",
      "访问https://www.cnipa.gov.cn/tjxx/jianbao/year2015/a/a11.html\n",
      "访问https://www.cnipa.gov.cn/tjxx/jianbao/year2015/a/a12.html\n",
      "访问https://www.cnipa.gov.cn/tjxx/jianbao/year2015/a/a13.html\n",
      "访问https://www.cnipa.gov.cn/tjxx/jianbao/year2015/a/a14.html\n",
      "访问https://www.cnipa.gov.cn/tjxx/jianbao/year2015/a/a15.html\n",
      "访问https://www.cnipa.gov.cn/tjxx/jianbao/year2015/a/a16.html\n",
      "访问https://www.cnipa.gov.cn/tjxx/jianbao/year2015/a/a17.html\n",
      "访问https://www.cnipa.gov.cn/tjxx/jianbao/year2015/a/a18.html\n",
      "访问https://www.cnipa.gov.cn/tjxx/jianbao/year2015/a/a2.html\n",
      "访问https://www.cnipa.gov.cn/tjxx/jianbao/year2015/a/a3.html\n",
      "访问https://www.cnipa.gov.cn/tjxx/jianbao/year2015/a/a4.html\n",
      "访问https://www.cnipa.gov.cn/tjxx/jianbao/year2015/a/a5.html\n",
      "访问https://www.cnipa.gov.cn/tjxx/jianbao/year2015/a/a6.html\n",
      "访问https://www.cnipa.gov.cn/tjxx/jianbao/year2015/a/a7.html\n",
      "访问https://www.cnipa.gov.cn/tjxx/jianbao/year2015/a/a8.html\n",
      "访问https://www.cnipa.gov.cn/tjxx/jianbao/year2015/a/a9.html\n"
     ]
    },
    {
     "name": "stderr",
     "output_type": "stream",
     "text": [
      "C:\\Users\\USER\\anaconda3\\envs\\jupyterlab\\lib\\site-packages\\requests\\packages\\urllib3\\connectionpool.py:852: InsecureRequestWarning: Unverified HTTPS request is being made. Adding certificate verification is strongly advised. See: https://urllib3.readthedocs.io/en/latest/advanced-usage.html#ssl-warnings\n",
      "  InsecureRequestWarning)\n"
     ]
    },
    {
     "name": "stdout",
     "output_type": "stream",
     "text": [
      "访问https://www.cnipa.gov.cn/tjxx/jianbao/year2015/b/b1.html\n",
      "访问https://www.cnipa.gov.cn/tjxx/jianbao/year2015/b/b10.html\n",
      "访问https://www.cnipa.gov.cn/tjxx/jianbao/year2015/b/b11.html\n",
      "访问https://www.cnipa.gov.cn/tjxx/jianbao/year2015/b/b12.html\n",
      "访问https://www.cnipa.gov.cn/tjxx/jianbao/year2015/b/b13.html\n",
      "访问https://www.cnipa.gov.cn/tjxx/jianbao/year2015/b/b14.html\n",
      "访问https://www.cnipa.gov.cn/tjxx/jianbao/year2015/b/b2.html\n",
      "访问https://www.cnipa.gov.cn/tjxx/jianbao/year2015/b/b3.html\n",
      "访问https://www.cnipa.gov.cn/tjxx/jianbao/year2015/b/b4.html\n",
      "访问https://www.cnipa.gov.cn/tjxx/jianbao/year2015/b/b5.html\n",
      "访问https://www.cnipa.gov.cn/tjxx/jianbao/year2015/b/b6.html\n",
      "访问https://www.cnipa.gov.cn/tjxx/jianbao/year2015/b/b7.html\n",
      "访问https://www.cnipa.gov.cn/tjxx/jianbao/year2015/b/b8.html\n",
      "访问https://www.cnipa.gov.cn/tjxx/jianbao/year2015/b/b9.html\n"
     ]
    },
    {
     "name": "stderr",
     "output_type": "stream",
     "text": [
      "C:\\Users\\USER\\anaconda3\\envs\\jupyterlab\\lib\\site-packages\\requests\\packages\\urllib3\\connectionpool.py:852: InsecureRequestWarning: Unverified HTTPS request is being made. Adding certificate verification is strongly advised. See: https://urllib3.readthedocs.io/en/latest/advanced-usage.html#ssl-warnings\n",
      "  InsecureRequestWarning)\n"
     ]
    },
    {
     "name": "stdout",
     "output_type": "stream",
     "text": [
      "访问https://www.cnipa.gov.cn/tjxx/jianbao/year2015/c/c1.html\n",
      "访问https://www.cnipa.gov.cn/tjxx/jianbao/year2015/c/c2.html\n",
      "访问https://www.cnipa.gov.cn/tjxx/jianbao/year2015/c/c3.html\n",
      "访问https://www.cnipa.gov.cn/tjxx/jianbao/year2015/c/c4.html\n",
      "访问https://www.cnipa.gov.cn/tjxx/jianbao/year2015/c/c5.html\n",
      "访问https://www.cnipa.gov.cn/tjxx/jianbao/year2015/c/c6.html\n",
      "访问https://www.cnipa.gov.cn/tjxx/jianbao/year2015/c/c7.html\n",
      "访问https://www.cnipa.gov.cn/tjxx/jianbao/year2015/c/c8.html\n",
      "访问https://www.cnipa.gov.cn/tjxx/jianbao/year2015/c/c9.html\n"
     ]
    },
    {
     "name": "stderr",
     "output_type": "stream",
     "text": [
      "C:\\Users\\USER\\anaconda3\\envs\\jupyterlab\\lib\\site-packages\\requests\\packages\\urllib3\\connectionpool.py:852: InsecureRequestWarning: Unverified HTTPS request is being made. Adding certificate verification is strongly advised. See: https://urllib3.readthedocs.io/en/latest/advanced-usage.html#ssl-warnings\n",
      "  InsecureRequestWarning)\n"
     ]
    },
    {
     "name": "stdout",
     "output_type": "stream",
     "text": [
      "访问https://www.cnipa.gov.cn/tjxx/jianbao/year2015/d/d1.html\n",
      "访问https://www.cnipa.gov.cn/tjxx/jianbao/year2015/d/d2.html\n",
      "访问https://www.cnipa.gov.cn/tjxx/jianbao/year2015/d/d3.html\n",
      "访问https://www.cnipa.gov.cn/tjxx/jianbao/year2015/d/d4.html\n"
     ]
    },
    {
     "name": "stderr",
     "output_type": "stream",
     "text": [
      "C:\\Users\\USER\\anaconda3\\envs\\jupyterlab\\lib\\site-packages\\requests\\packages\\urllib3\\connectionpool.py:852: InsecureRequestWarning: Unverified HTTPS request is being made. Adding certificate verification is strongly advised. See: https://urllib3.readthedocs.io/en/latest/advanced-usage.html#ssl-warnings\n",
      "  InsecureRequestWarning)\n"
     ]
    },
    {
     "name": "stdout",
     "output_type": "stream",
     "text": [
      "访问https://www.cnipa.gov.cn/tjxx/jianbao/year2015/e/e1.html\n",
      "访问https://www.cnipa.gov.cn/tjxx/jianbao/year2015/e/e2.html\n",
      "访问https://www.cnipa.gov.cn/tjxx/jianbao/year2015/e/e3.html\n",
      "访问https://www.cnipa.gov.cn/tjxx/jianbao/year2015/e/e4.html\n",
      "访问https://www.cnipa.gov.cn/tjxx/jianbao/year2015/e/e5.html\n",
      "访问https://www.cnipa.gov.cn/tjxx/jianbao/year2015/e/e6.html\n",
      "访问https://www.cnipa.gov.cn/tjxx/jianbao/year2015/e/e7.html\n",
      "访问https://www.cnipa.gov.cn/tjxx/jianbao/year2015/e/e8.html\n"
     ]
    },
    {
     "name": "stderr",
     "output_type": "stream",
     "text": [
      "C:\\Users\\USER\\anaconda3\\envs\\jupyterlab\\lib\\site-packages\\requests\\packages\\urllib3\\connectionpool.py:852: InsecureRequestWarning: Unverified HTTPS request is being made. Adding certificate verification is strongly advised. See: https://urllib3.readthedocs.io/en/latest/advanced-usage.html#ssl-warnings\n",
      "  InsecureRequestWarning)\n"
     ]
    },
    {
     "name": "stdout",
     "output_type": "stream",
     "text": [
      "访问https://www.cnipa.gov.cn/tjxx/jianbao/year2015/f/f1.html\n",
      "访问https://www.cnipa.gov.cn/tjxx/jianbao/year2015/f/f2.html\n",
      "访问https://www.cnipa.gov.cn/tjxx/jianbao/year2015/f/f3.html\n",
      "访问https://www.cnipa.gov.cn/tjxx/jianbao/year2015/f/f4.html\n",
      "访问https://www.cnipa.gov.cn/tjxx/jianbao/year2015/f/f5.html\n"
     ]
    },
    {
     "name": "stderr",
     "output_type": "stream",
     "text": [
      "C:\\Users\\USER\\anaconda3\\envs\\jupyterlab\\lib\\site-packages\\requests\\packages\\urllib3\\connectionpool.py:852: InsecureRequestWarning: Unverified HTTPS request is being made. Adding certificate verification is strongly advised. See: https://urllib3.readthedocs.io/en/latest/advanced-usage.html#ssl-warnings\n",
      "  InsecureRequestWarning)\n"
     ]
    },
    {
     "name": "stdout",
     "output_type": "stream",
     "text": [
      "访问https://www.cnipa.gov.cn/tjxx/jianbao/year2015/h/h1.html\n",
      "访问https://www.cnipa.gov.cn/tjxx/jianbao/year2015/h/h2.html\n",
      "访问https://www.cnipa.gov.cn/tjxx/jianbao/year2015/h/h3.html\n",
      "访问https://www.cnipa.gov.cn/tjxx/jianbao/year2015/h/h4.html\n",
      "访问https://www.cnipa.gov.cn/tjxx/jianbao/year2015/h/h5.html\n",
      "访问https://www.cnipa.gov.cn/tjxx/jianbao/year2015/h/h6.html\n"
     ]
    },
    {
     "name": "stderr",
     "output_type": "stream",
     "text": [
      "C:\\Users\\USER\\anaconda3\\envs\\jupyterlab\\lib\\site-packages\\requests\\packages\\urllib3\\connectionpool.py:852: InsecureRequestWarning: Unverified HTTPS request is being made. Adding certificate verification is strongly advised. See: https://urllib3.readthedocs.io/en/latest/advanced-usage.html#ssl-warnings\n",
      "  InsecureRequestWarning)\n",
      " 73%|███████▎  | 8/11 [04:37<02:30, 50.28s/it]C:\\Users\\USER\\anaconda3\\envs\\jupyterlab\\lib\\site-packages\\requests\\packages\\urllib3\\connectionpool.py:852: InsecureRequestWarning: Unverified HTTPS request is being made. Adding certificate verification is strongly advised. See: https://urllib3.readthedocs.io/en/latest/advanced-usage.html#ssl-warnings\n",
      "  InsecureRequestWarning)\n",
      "C:\\Users\\USER\\anaconda3\\envs\\jupyterlab\\lib\\site-packages\\requests\\packages\\urllib3\\connectionpool.py:852: InsecureRequestWarning: Unverified HTTPS request is being made. Adding certificate verification is strongly advised. See: https://urllib3.readthedocs.io/en/latest/advanced-usage.html#ssl-warnings\n",
      "  InsecureRequestWarning)\n"
     ]
    },
    {
     "name": "stdout",
     "output_type": "stream",
     "text": [
      "访问https://www.cnipa.gov.cn/tjxx/jianbao/year2016/a/a1.html\n",
      "访问https://www.cnipa.gov.cn/tjxx/jianbao/year2016/a/a10.html\n",
      "访问https://www.cnipa.gov.cn/tjxx/jianbao/year2016/a/a11.html\n",
      "访问https://www.cnipa.gov.cn/tjxx/jianbao/year2016/a/a12.html\n",
      "访问https://www.cnipa.gov.cn/tjxx/jianbao/year2016/a/a13.html\n",
      "访问https://www.cnipa.gov.cn/tjxx/jianbao/year2016/a/a14.html\n",
      "访问https://www.cnipa.gov.cn/tjxx/jianbao/year2016/a/a15.html\n",
      "访问https://www.cnipa.gov.cn/tjxx/jianbao/year2016/a/a16.html\n",
      "访问https://www.cnipa.gov.cn/tjxx/jianbao/year2016/a/a17.html\n",
      "访问https://www.cnipa.gov.cn/tjxx/jianbao/year2016/a/a18.html\n",
      "访问https://www.cnipa.gov.cn/tjxx/jianbao/year2016/a/a2.html\n",
      "访问https://www.cnipa.gov.cn/tjxx/jianbao/year2016/a/a3.html\n",
      "访问https://www.cnipa.gov.cn/tjxx/jianbao/year2016/a/a4.html\n",
      "访问https://www.cnipa.gov.cn/tjxx/jianbao/year2016/a/a5.html\n",
      "访问https://www.cnipa.gov.cn/tjxx/jianbao/year2016/a/a6.html\n",
      "访问https://www.cnipa.gov.cn/tjxx/jianbao/year2016/a/a7.html\n",
      "访问https://www.cnipa.gov.cn/tjxx/jianbao/year2016/a/a8.html\n",
      "访问https://www.cnipa.gov.cn/tjxx/jianbao/year2016/a/a9.html\n"
     ]
    },
    {
     "name": "stderr",
     "output_type": "stream",
     "text": [
      "C:\\Users\\USER\\anaconda3\\envs\\jupyterlab\\lib\\site-packages\\requests\\packages\\urllib3\\connectionpool.py:852: InsecureRequestWarning: Unverified HTTPS request is being made. Adding certificate verification is strongly advised. See: https://urllib3.readthedocs.io/en/latest/advanced-usage.html#ssl-warnings\n",
      "  InsecureRequestWarning)\n"
     ]
    },
    {
     "name": "stdout",
     "output_type": "stream",
     "text": [
      "访问https://www.cnipa.gov.cn/tjxx/jianbao/year2016/b/b1.html\n",
      "访问https://www.cnipa.gov.cn/tjxx/jianbao/year2016/b/b10.html\n",
      "访问https://www.cnipa.gov.cn/tjxx/jianbao/year2016/b/b11.html\n",
      "访问https://www.cnipa.gov.cn/tjxx/jianbao/year2016/b/b12.html\n",
      "访问https://www.cnipa.gov.cn/tjxx/jianbao/year2016/b/b13.html\n",
      "访问https://www.cnipa.gov.cn/tjxx/jianbao/year2016/b/b14.html\n",
      "访问https://www.cnipa.gov.cn/tjxx/jianbao/year2016/b/b2.html\n",
      "访问https://www.cnipa.gov.cn/tjxx/jianbao/year2016/b/b3.html\n",
      "访问https://www.cnipa.gov.cn/tjxx/jianbao/year2016/b/b4.html\n",
      "访问https://www.cnipa.gov.cn/tjxx/jianbao/year2016/b/b5.html\n",
      "访问https://www.cnipa.gov.cn/tjxx/jianbao/year2016/b/b6.html\n",
      "访问https://www.cnipa.gov.cn/tjxx/jianbao/year2016/b/b7.html\n",
      "访问https://www.cnipa.gov.cn/tjxx/jianbao/year2016/b/b8.html\n",
      "访问https://www.cnipa.gov.cn/tjxx/jianbao/year2016/b/b9.html\n"
     ]
    },
    {
     "name": "stderr",
     "output_type": "stream",
     "text": [
      "C:\\Users\\USER\\anaconda3\\envs\\jupyterlab\\lib\\site-packages\\requests\\packages\\urllib3\\connectionpool.py:852: InsecureRequestWarning: Unverified HTTPS request is being made. Adding certificate verification is strongly advised. See: https://urllib3.readthedocs.io/en/latest/advanced-usage.html#ssl-warnings\n",
      "  InsecureRequestWarning)\n"
     ]
    },
    {
     "name": "stdout",
     "output_type": "stream",
     "text": [
      "访问https://www.cnipa.gov.cn/tjxx/jianbao/year2016/c/c1.html\n",
      "访问https://www.cnipa.gov.cn/tjxx/jianbao/year2016/c/c2.html\n",
      "访问https://www.cnipa.gov.cn/tjxx/jianbao/year2016/c/c3.html\n",
      "访问https://www.cnipa.gov.cn/tjxx/jianbao/year2016/c/c4.html\n",
      "访问https://www.cnipa.gov.cn/tjxx/jianbao/year2016/c/c5.html\n",
      "访问https://www.cnipa.gov.cn/tjxx/jianbao/year2016/c/c6.html\n",
      "访问https://www.cnipa.gov.cn/tjxx/jianbao/year2016/c/c7.html\n",
      "访问https://www.cnipa.gov.cn/tjxx/jianbao/year2016/c/c8.html\n",
      "访问https://www.cnipa.gov.cn/tjxx/jianbao/year2016/c/c9.html\n"
     ]
    },
    {
     "name": "stderr",
     "output_type": "stream",
     "text": [
      "C:\\Users\\USER\\anaconda3\\envs\\jupyterlab\\lib\\site-packages\\requests\\packages\\urllib3\\connectionpool.py:852: InsecureRequestWarning: Unverified HTTPS request is being made. Adding certificate verification is strongly advised. See: https://urllib3.readthedocs.io/en/latest/advanced-usage.html#ssl-warnings\n",
      "  InsecureRequestWarning)\n"
     ]
    },
    {
     "name": "stdout",
     "output_type": "stream",
     "text": [
      "访问https://www.cnipa.gov.cn/tjxx/jianbao/year2016/d/d1.html\n",
      "访问https://www.cnipa.gov.cn/tjxx/jianbao/year2016/d/d2.html\n",
      "访问https://www.cnipa.gov.cn/tjxx/jianbao/year2016/d/d3.html\n",
      "访问https://www.cnipa.gov.cn/tjxx/jianbao/year2016/d/d4.html\n"
     ]
    },
    {
     "name": "stderr",
     "output_type": "stream",
     "text": [
      "C:\\Users\\USER\\anaconda3\\envs\\jupyterlab\\lib\\site-packages\\requests\\packages\\urllib3\\connectionpool.py:852: InsecureRequestWarning: Unverified HTTPS request is being made. Adding certificate verification is strongly advised. See: https://urllib3.readthedocs.io/en/latest/advanced-usage.html#ssl-warnings\n",
      "  InsecureRequestWarning)\n"
     ]
    },
    {
     "name": "stdout",
     "output_type": "stream",
     "text": [
      "访问https://www.cnipa.gov.cn/tjxx/jianbao/year2016/e/e1.html\n",
      "访问https://www.cnipa.gov.cn/tjxx/jianbao/year2016/e/e2.html\n",
      "访问https://www.cnipa.gov.cn/tjxx/jianbao/year2016/e/e3.html\n",
      "访问https://www.cnipa.gov.cn/tjxx/jianbao/year2016/e/e4.html\n",
      "访问https://www.cnipa.gov.cn/tjxx/jianbao/year2016/e/e5.html\n",
      "访问https://www.cnipa.gov.cn/tjxx/jianbao/year2016/e/e6.html\n",
      "访问https://www.cnipa.gov.cn/tjxx/jianbao/year2016/e/e7.html\n",
      "访问https://www.cnipa.gov.cn/tjxx/jianbao/year2016/e/e8.html\n"
     ]
    },
    {
     "name": "stderr",
     "output_type": "stream",
     "text": [
      "C:\\Users\\USER\\anaconda3\\envs\\jupyterlab\\lib\\site-packages\\requests\\packages\\urllib3\\connectionpool.py:852: InsecureRequestWarning: Unverified HTTPS request is being made. Adding certificate verification is strongly advised. See: https://urllib3.readthedocs.io/en/latest/advanced-usage.html#ssl-warnings\n",
      "  InsecureRequestWarning)\n"
     ]
    },
    {
     "name": "stdout",
     "output_type": "stream",
     "text": [
      "访问https://www.cnipa.gov.cn/tjxx/jianbao/year2016/f/f1.html\n",
      "访问https://www.cnipa.gov.cn/tjxx/jianbao/year2016/f/f2.html\n",
      "访问https://www.cnipa.gov.cn/tjxx/jianbao/year2016/f/f3.html\n"
     ]
    },
    {
     "name": "stderr",
     "output_type": "stream",
     "text": [
      "C:\\Users\\USER\\anaconda3\\envs\\jupyterlab\\lib\\site-packages\\requests\\packages\\urllib3\\connectionpool.py:852: InsecureRequestWarning: Unverified HTTPS request is being made. Adding certificate verification is strongly advised. See: https://urllib3.readthedocs.io/en/latest/advanced-usage.html#ssl-warnings\n",
      "  InsecureRequestWarning)\n"
     ]
    },
    {
     "name": "stdout",
     "output_type": "stream",
     "text": [
      "访问https://www.cnipa.gov.cn/tjxx/jianbao/year2016/h/h1.html\n",
      "连接失败https://www.cnipa.gov.cn/tjxx/jianbao/year2016/h/h1.html\n",
      "访问https://www.cnipa.gov.cn/tjxx/jianbao/year2016/h/h2.html\n",
      "访问https://www.cnipa.gov.cn/tjxx/jianbao/year2016/h/h3.html\n",
      "访问https://www.cnipa.gov.cn/tjxx/jianbao/year2016/h/h4.html\n",
      "访问https://www.cnipa.gov.cn/tjxx/jianbao/year2016/h/h5.html\n",
      "访问https://www.cnipa.gov.cn/tjxx/jianbao/year2016/h/h6.html\n"
     ]
    },
    {
     "name": "stderr",
     "output_type": "stream",
     "text": [
      "C:\\Users\\USER\\anaconda3\\envs\\jupyterlab\\lib\\site-packages\\requests\\packages\\urllib3\\connectionpool.py:852: InsecureRequestWarning: Unverified HTTPS request is being made. Adding certificate verification is strongly advised. See: https://urllib3.readthedocs.io/en/latest/advanced-usage.html#ssl-warnings\n",
      "  InsecureRequestWarning)\n",
      " 82%|████████▏ | 9/11 [06:14<02:09, 64.65s/it]C:\\Users\\USER\\anaconda3\\envs\\jupyterlab\\lib\\site-packages\\requests\\packages\\urllib3\\connectionpool.py:852: InsecureRequestWarning: Unverified HTTPS request is being made. Adding certificate verification is strongly advised. See: https://urllib3.readthedocs.io/en/latest/advanced-usage.html#ssl-warnings\n",
      "  InsecureRequestWarning)\n",
      "C:\\Users\\USER\\anaconda3\\envs\\jupyterlab\\lib\\site-packages\\requests\\packages\\urllib3\\connectionpool.py:852: InsecureRequestWarning: Unverified HTTPS request is being made. Adding certificate verification is strongly advised. See: https://urllib3.readthedocs.io/en/latest/advanced-usage.html#ssl-warnings\n",
      "  InsecureRequestWarning)\n"
     ]
    },
    {
     "name": "stdout",
     "output_type": "stream",
     "text": [
      "访问https://www.cnipa.gov.cn/tjxx/jianbao/year2017/a/a1.html\n",
      "访问https://www.cnipa.gov.cn/tjxx/jianbao/year2017/a/a10.html\n",
      "访问https://www.cnipa.gov.cn/tjxx/jianbao/year2017/a/a11.html\n",
      "访问https://www.cnipa.gov.cn/tjxx/jianbao/year2017/a/a12.html\n",
      "访问https://www.cnipa.gov.cn/tjxx/jianbao/year2017/a/a13.html\n",
      "访问https://www.cnipa.gov.cn/tjxx/jianbao/year2017/a/a14.html\n",
      "访问https://www.cnipa.gov.cn/tjxx/jianbao/year2017/a/a15.html\n",
      "访问https://www.cnipa.gov.cn/tjxx/jianbao/year2017/a/a16.html\n",
      "访问https://www.cnipa.gov.cn/tjxx/jianbao/year2017/a/a17.html\n",
      "访问https://www.cnipa.gov.cn/tjxx/jianbao/year2017/a/a18.html\n",
      "访问https://www.cnipa.gov.cn/tjxx/jianbao/year2017/a/a2.html\n",
      "访问https://www.cnipa.gov.cn/tjxx/jianbao/year2017/a/a3.html\n",
      "访问https://www.cnipa.gov.cn/tjxx/jianbao/year2017/a/a4.html\n",
      "访问https://www.cnipa.gov.cn/tjxx/jianbao/year2017/a/a5.html\n",
      "访问https://www.cnipa.gov.cn/tjxx/jianbao/year2017/a/a6.html\n",
      "访问https://www.cnipa.gov.cn/tjxx/jianbao/year2017/a/a7.html\n",
      "访问https://www.cnipa.gov.cn/tjxx/jianbao/year2017/a/a8.html\n",
      "访问https://www.cnipa.gov.cn/tjxx/jianbao/year2017/a/a9.html\n"
     ]
    },
    {
     "name": "stderr",
     "output_type": "stream",
     "text": [
      "C:\\Users\\USER\\anaconda3\\envs\\jupyterlab\\lib\\site-packages\\requests\\packages\\urllib3\\connectionpool.py:852: InsecureRequestWarning: Unverified HTTPS request is being made. Adding certificate verification is strongly advised. See: https://urllib3.readthedocs.io/en/latest/advanced-usage.html#ssl-warnings\n",
      "  InsecureRequestWarning)\n"
     ]
    },
    {
     "name": "stdout",
     "output_type": "stream",
     "text": [
      "访问https://www.cnipa.gov.cn/tjxx/jianbao/year2017/b/b1.html\n",
      "访问https://www.cnipa.gov.cn/tjxx/jianbao/year2017/b/b10.html\n",
      "访问https://www.cnipa.gov.cn/tjxx/jianbao/year2017/b/b11.html\n",
      "访问https://www.cnipa.gov.cn/tjxx/jianbao/year2017/b/b12.html\n",
      "访问https://www.cnipa.gov.cn/tjxx/jianbao/year2017/b/b13.html\n",
      "访问https://www.cnipa.gov.cn/tjxx/jianbao/year2017/b/b14.html\n",
      "访问https://www.cnipa.gov.cn/tjxx/jianbao/year2017/b/b2.html\n",
      "访问https://www.cnipa.gov.cn/tjxx/jianbao/year2017/b/b3.html\n",
      "访问https://www.cnipa.gov.cn/tjxx/jianbao/year2017/b/b4.html\n",
      "访问https://www.cnipa.gov.cn/tjxx/jianbao/year2017/b/b5.html\n",
      "访问https://www.cnipa.gov.cn/tjxx/jianbao/year2017/b/b6.html\n",
      "连接失败https://www.cnipa.gov.cn/tjxx/jianbao/year2017/b/b6.html\n",
      "访问https://www.cnipa.gov.cn/tjxx/jianbao/year2017/b/b7.html\n",
      "访问https://www.cnipa.gov.cn/tjxx/jianbao/year2017/b/b8.html\n",
      "访问https://www.cnipa.gov.cn/tjxx/jianbao/year2017/b/b9.html\n"
     ]
    },
    {
     "name": "stderr",
     "output_type": "stream",
     "text": [
      "C:\\Users\\USER\\anaconda3\\envs\\jupyterlab\\lib\\site-packages\\requests\\packages\\urllib3\\connectionpool.py:852: InsecureRequestWarning: Unverified HTTPS request is being made. Adding certificate verification is strongly advised. See: https://urllib3.readthedocs.io/en/latest/advanced-usage.html#ssl-warnings\n",
      "  InsecureRequestWarning)\n"
     ]
    },
    {
     "name": "stdout",
     "output_type": "stream",
     "text": [
      "访问https://www.cnipa.gov.cn/tjxx/jianbao/year2017/c/c1.html\n",
      "访问https://www.cnipa.gov.cn/tjxx/jianbao/year2017/c/c2.html\n",
      "访问https://www.cnipa.gov.cn/tjxx/jianbao/year2017/c/c3.html\n",
      "访问https://www.cnipa.gov.cn/tjxx/jianbao/year2017/c/c4.html\n",
      "访问https://www.cnipa.gov.cn/tjxx/jianbao/year2017/c/c5.html\n",
      "访问https://www.cnipa.gov.cn/tjxx/jianbao/year2017/c/c6.html\n",
      "访问https://www.cnipa.gov.cn/tjxx/jianbao/year2017/c/c7.html\n",
      "访问https://www.cnipa.gov.cn/tjxx/jianbao/year2017/c/c8.html\n",
      "访问https://www.cnipa.gov.cn/tjxx/jianbao/year2017/c/c9.html\n"
     ]
    },
    {
     "name": "stderr",
     "output_type": "stream",
     "text": [
      "C:\\Users\\USER\\anaconda3\\envs\\jupyterlab\\lib\\site-packages\\requests\\packages\\urllib3\\connectionpool.py:852: InsecureRequestWarning: Unverified HTTPS request is being made. Adding certificate verification is strongly advised. See: https://urllib3.readthedocs.io/en/latest/advanced-usage.html#ssl-warnings\n",
      "  InsecureRequestWarning)\n"
     ]
    },
    {
     "name": "stdout",
     "output_type": "stream",
     "text": [
      "访问https://www.cnipa.gov.cn/tjxx/jianbao/year2017/d/d1.html\n",
      "访问https://www.cnipa.gov.cn/tjxx/jianbao/year2017/d/d2.html\n",
      "访问https://www.cnipa.gov.cn/tjxx/jianbao/year2017/d/d3.html\n",
      "访问https://www.cnipa.gov.cn/tjxx/jianbao/year2017/d/d4.html\n"
     ]
    },
    {
     "name": "stderr",
     "output_type": "stream",
     "text": [
      "C:\\Users\\USER\\anaconda3\\envs\\jupyterlab\\lib\\site-packages\\requests\\packages\\urllib3\\connectionpool.py:852: InsecureRequestWarning: Unverified HTTPS request is being made. Adding certificate verification is strongly advised. See: https://urllib3.readthedocs.io/en/latest/advanced-usage.html#ssl-warnings\n",
      "  InsecureRequestWarning)\n"
     ]
    },
    {
     "name": "stdout",
     "output_type": "stream",
     "text": [
      "访问https://www.cnipa.gov.cn/tjxx/jianbao/year2017/e/e1.html\n",
      "访问https://www.cnipa.gov.cn/tjxx/jianbao/year2017/e/e2.html\n",
      "访问https://www.cnipa.gov.cn/tjxx/jianbao/year2017/e/e3.html\n",
      "访问https://www.cnipa.gov.cn/tjxx/jianbao/year2017/e/e4.html\n",
      "访问https://www.cnipa.gov.cn/tjxx/jianbao/year2017/e/e5.html\n",
      "访问https://www.cnipa.gov.cn/tjxx/jianbao/year2017/e/e6.html\n",
      "访问https://www.cnipa.gov.cn/tjxx/jianbao/year2017/e/e7.html\n",
      "访问https://www.cnipa.gov.cn/tjxx/jianbao/year2017/e/e8.html\n"
     ]
    },
    {
     "name": "stderr",
     "output_type": "stream",
     "text": [
      "C:\\Users\\USER\\anaconda3\\envs\\jupyterlab\\lib\\site-packages\\requests\\packages\\urllib3\\connectionpool.py:852: InsecureRequestWarning: Unverified HTTPS request is being made. Adding certificate verification is strongly advised. See: https://urllib3.readthedocs.io/en/latest/advanced-usage.html#ssl-warnings\n",
      "  InsecureRequestWarning)\n"
     ]
    },
    {
     "name": "stdout",
     "output_type": "stream",
     "text": [
      "访问https://www.cnipa.gov.cn/tjxx/jianbao/year2017/f/f1.html\n",
      "访问https://www.cnipa.gov.cn/tjxx/jianbao/year2017/f/f2.html\n"
     ]
    },
    {
     "name": "stderr",
     "output_type": "stream",
     "text": [
      "C:\\Users\\USER\\anaconda3\\envs\\jupyterlab\\lib\\site-packages\\requests\\packages\\urllib3\\connectionpool.py:852: InsecureRequestWarning: Unverified HTTPS request is being made. Adding certificate verification is strongly advised. See: https://urllib3.readthedocs.io/en/latest/advanced-usage.html#ssl-warnings\n",
      "  InsecureRequestWarning)\n"
     ]
    },
    {
     "name": "stdout",
     "output_type": "stream",
     "text": [
      "访问https://www.cnipa.gov.cn/tjxx/jianbao/year2017/h/h1.html\n",
      "访问https://www.cnipa.gov.cn/tjxx/jianbao/year2017/h/h2.html\n",
      "访问https://www.cnipa.gov.cn/tjxx/jianbao/year2017/h/h3.html\n",
      "访问https://www.cnipa.gov.cn/tjxx/jianbao/year2017/h/h4.html\n",
      "访问https://www.cnipa.gov.cn/tjxx/jianbao/year2017/h/h5.html\n",
      "访问https://www.cnipa.gov.cn/tjxx/jianbao/year2017/h/h6.html\n"
     ]
    },
    {
     "name": "stderr",
     "output_type": "stream",
     "text": [
      "C:\\Users\\USER\\anaconda3\\envs\\jupyterlab\\lib\\site-packages\\requests\\packages\\urllib3\\connectionpool.py:852: InsecureRequestWarning: Unverified HTTPS request is being made. Adding certificate verification is strongly advised. See: https://urllib3.readthedocs.io/en/latest/advanced-usage.html#ssl-warnings\n",
      "  InsecureRequestWarning)\n",
      " 91%|█████████ | 10/11 [07:01<00:59, 59.32s/it]C:\\Users\\USER\\anaconda3\\envs\\jupyterlab\\lib\\site-packages\\requests\\packages\\urllib3\\connectionpool.py:852: InsecureRequestWarning: Unverified HTTPS request is being made. Adding certificate verification is strongly advised. See: https://urllib3.readthedocs.io/en/latest/advanced-usage.html#ssl-warnings\n",
      "  InsecureRequestWarning)\n",
      "C:\\Users\\USER\\anaconda3\\envs\\jupyterlab\\lib\\site-packages\\requests\\packages\\urllib3\\connectionpool.py:852: InsecureRequestWarning: Unverified HTTPS request is being made. Adding certificate verification is strongly advised. See: https://urllib3.readthedocs.io/en/latest/advanced-usage.html#ssl-warnings\n",
      "  InsecureRequestWarning)\n"
     ]
    },
    {
     "name": "stdout",
     "output_type": "stream",
     "text": [
      "访问https://www.cnipa.gov.cn/tjxx/jianbao/year2018/a/a1.html\n",
      "访问https://www.cnipa.gov.cn/tjxx/jianbao/year2018/a/a10.html\n",
      "访问https://www.cnipa.gov.cn/tjxx/jianbao/year2018/a/a11.html\n",
      "访问https://www.cnipa.gov.cn/tjxx/jianbao/year2018/a/a12.html\n",
      "访问https://www.cnipa.gov.cn/tjxx/jianbao/year2018/a/a13.html\n",
      "访问https://www.cnipa.gov.cn/tjxx/jianbao/year2018/a/a14.html\n",
      "访问https://www.cnipa.gov.cn/tjxx/jianbao/year2018/a/a15.html\n",
      "访问https://www.cnipa.gov.cn/tjxx/jianbao/year2018/a/a16.html\n",
      "访问https://www.cnipa.gov.cn/tjxx/jianbao/year2018/a/a17.html\n",
      "访问https://www.cnipa.gov.cn/tjxx/jianbao/year2018/a/a18.html\n",
      "访问https://www.cnipa.gov.cn/tjxx/jianbao/year2018/a/a2.html\n",
      "访问https://www.cnipa.gov.cn/tjxx/jianbao/year2018/a/a3.html\n",
      "访问https://www.cnipa.gov.cn/tjxx/jianbao/year2018/a/a4.html\n",
      "访问https://www.cnipa.gov.cn/tjxx/jianbao/year2018/a/a5.html\n",
      "访问https://www.cnipa.gov.cn/tjxx/jianbao/year2018/a/a6.html\n",
      "访问https://www.cnipa.gov.cn/tjxx/jianbao/year2018/a/a7.html\n",
      "访问https://www.cnipa.gov.cn/tjxx/jianbao/year2018/a/a8.html\n",
      "访问https://www.cnipa.gov.cn/tjxx/jianbao/year2018/a/a9.html\n"
     ]
    },
    {
     "name": "stderr",
     "output_type": "stream",
     "text": [
      "C:\\Users\\USER\\anaconda3\\envs\\jupyterlab\\lib\\site-packages\\requests\\packages\\urllib3\\connectionpool.py:852: InsecureRequestWarning: Unverified HTTPS request is being made. Adding certificate verification is strongly advised. See: https://urllib3.readthedocs.io/en/latest/advanced-usage.html#ssl-warnings\n",
      "  InsecureRequestWarning)\n"
     ]
    },
    {
     "name": "stdout",
     "output_type": "stream",
     "text": [
      "访问https://www.cnipa.gov.cn/tjxx/jianbao/year2018/b/b1.html\n",
      "访问https://www.cnipa.gov.cn/tjxx/jianbao/year2018/b/b10.html\n",
      "访问https://www.cnipa.gov.cn/tjxx/jianbao/year2018/b/b11.html\n",
      "访问https://www.cnipa.gov.cn/tjxx/jianbao/year2018/b/b12.html\n",
      "访问https://www.cnipa.gov.cn/tjxx/jianbao/year2018/b/b13.html\n",
      "访问https://www.cnipa.gov.cn/tjxx/jianbao/year2018/b/b14.html\n",
      "访问https://www.cnipa.gov.cn/tjxx/jianbao/year2018/b/b2.html\n",
      "访问https://www.cnipa.gov.cn/tjxx/jianbao/year2018/b/b3.html\n",
      "访问https://www.cnipa.gov.cn/tjxx/jianbao/year2018/b/b4.html\n",
      "访问https://www.cnipa.gov.cn/tjxx/jianbao/year2018/b/b5.html\n",
      "访问https://www.cnipa.gov.cn/tjxx/jianbao/year2018/b/b6.html\n",
      "访问https://www.cnipa.gov.cn/tjxx/jianbao/year2018/b/b7.html\n",
      "访问https://www.cnipa.gov.cn/tjxx/jianbao/year2018/b/b8.html\n",
      "访问https://www.cnipa.gov.cn/tjxx/jianbao/year2018/b/b9.html\n"
     ]
    },
    {
     "name": "stderr",
     "output_type": "stream",
     "text": [
      "C:\\Users\\USER\\anaconda3\\envs\\jupyterlab\\lib\\site-packages\\requests\\packages\\urllib3\\connectionpool.py:852: InsecureRequestWarning: Unverified HTTPS request is being made. Adding certificate verification is strongly advised. See: https://urllib3.readthedocs.io/en/latest/advanced-usage.html#ssl-warnings\n",
      "  InsecureRequestWarning)\n"
     ]
    },
    {
     "name": "stdout",
     "output_type": "stream",
     "text": [
      "访问https://www.cnipa.gov.cn/tjxx/jianbao/year2018/c/c1.html\n",
      "访问https://www.cnipa.gov.cn/tjxx/jianbao/year2018/c/c2.html\n",
      "访问https://www.cnipa.gov.cn/tjxx/jianbao/year2018/c/c3.html\n",
      "访问https://www.cnipa.gov.cn/tjxx/jianbao/year2018/c/c4.html\n",
      "访问https://www.cnipa.gov.cn/tjxx/jianbao/year2018/c/c5.html\n",
      "访问https://www.cnipa.gov.cn/tjxx/jianbao/year2018/c/c6.html\n",
      "访问https://www.cnipa.gov.cn/tjxx/jianbao/year2018/c/c7.html\n",
      "访问https://www.cnipa.gov.cn/tjxx/jianbao/year2018/c/c8.html\n",
      "访问https://www.cnipa.gov.cn/tjxx/jianbao/year2018/c/c9.html\n"
     ]
    },
    {
     "name": "stderr",
     "output_type": "stream",
     "text": [
      "C:\\Users\\USER\\anaconda3\\envs\\jupyterlab\\lib\\site-packages\\requests\\packages\\urllib3\\connectionpool.py:852: InsecureRequestWarning: Unverified HTTPS request is being made. Adding certificate verification is strongly advised. See: https://urllib3.readthedocs.io/en/latest/advanced-usage.html#ssl-warnings\n",
      "  InsecureRequestWarning)\n"
     ]
    },
    {
     "name": "stdout",
     "output_type": "stream",
     "text": [
      "访问https://www.cnipa.gov.cn/tjxx/jianbao/year2018/d/d1.html\n",
      "访问https://www.cnipa.gov.cn/tjxx/jianbao/year2018/d/d2.html\n",
      "访问https://www.cnipa.gov.cn/tjxx/jianbao/year2018/d/d3.html\n",
      "访问https://www.cnipa.gov.cn/tjxx/jianbao/year2018/d/d4.html\n"
     ]
    },
    {
     "name": "stderr",
     "output_type": "stream",
     "text": [
      "C:\\Users\\USER\\anaconda3\\envs\\jupyterlab\\lib\\site-packages\\requests\\packages\\urllib3\\connectionpool.py:852: InsecureRequestWarning: Unverified HTTPS request is being made. Adding certificate verification is strongly advised. See: https://urllib3.readthedocs.io/en/latest/advanced-usage.html#ssl-warnings\n",
      "  InsecureRequestWarning)\n"
     ]
    },
    {
     "name": "stdout",
     "output_type": "stream",
     "text": [
      "访问https://www.cnipa.gov.cn/tjxx/jianbao/year2018/e/e1.html\n",
      "访问https://www.cnipa.gov.cn/tjxx/jianbao/year2018/e/e2.html\n",
      "访问https://www.cnipa.gov.cn/tjxx/jianbao/year2018/e/e3.html\n",
      "访问https://www.cnipa.gov.cn/tjxx/jianbao/year2018/e/e4.html\n",
      "访问https://www.cnipa.gov.cn/tjxx/jianbao/year2018/e/e5.html\n",
      "访问https://www.cnipa.gov.cn/tjxx/jianbao/year2018/e/e6.html\n",
      "访问https://www.cnipa.gov.cn/tjxx/jianbao/year2018/e/e7.html\n",
      "访问https://www.cnipa.gov.cn/tjxx/jianbao/year2018/e/e8.html\n",
      "连接失败https://www.cnipa.gov.cn/tjxx/jianbao/year2018/e/e8.html\n"
     ]
    },
    {
     "name": "stderr",
     "output_type": "stream",
     "text": [
      "C:\\Users\\USER\\anaconda3\\envs\\jupyterlab\\lib\\site-packages\\requests\\packages\\urllib3\\connectionpool.py:852: InsecureRequestWarning: Unverified HTTPS request is being made. Adding certificate verification is strongly advised. See: https://urllib3.readthedocs.io/en/latest/advanced-usage.html#ssl-warnings\n",
      "  InsecureRequestWarning)\n"
     ]
    },
    {
     "name": "stdout",
     "output_type": "stream",
     "text": [
      "访问https://www.cnipa.gov.cn/tjxx/jianbao/year2018/f/f1.html\n",
      "访问https://www.cnipa.gov.cn/tjxx/jianbao/year2018/f/f2.html\n",
      "访问https://www.cnipa.gov.cn/tjxx/jianbao/year2018/f/f3.html\n"
     ]
    },
    {
     "name": "stderr",
     "output_type": "stream",
     "text": [
      "C:\\Users\\USER\\anaconda3\\envs\\jupyterlab\\lib\\site-packages\\requests\\packages\\urllib3\\connectionpool.py:852: InsecureRequestWarning: Unverified HTTPS request is being made. Adding certificate verification is strongly advised. See: https://urllib3.readthedocs.io/en/latest/advanced-usage.html#ssl-warnings\n",
      "  InsecureRequestWarning)\n"
     ]
    },
    {
     "name": "stdout",
     "output_type": "stream",
     "text": [
      "访问https://www.cnipa.gov.cn/tjxx/jianbao/year2018/h/h1.html\n",
      "访问https://www.cnipa.gov.cn/tjxx/jianbao/year2018/h/h2.html\n",
      "访问https://www.cnipa.gov.cn/tjxx/jianbao/year2018/h/h3.html\n",
      "访问https://www.cnipa.gov.cn/tjxx/jianbao/year2018/h/h4.html\n",
      "访问https://www.cnipa.gov.cn/tjxx/jianbao/year2018/h/h5.html\n",
      "访问https://www.cnipa.gov.cn/tjxx/jianbao/year2018/h/h6.html\n"
     ]
    },
    {
     "name": "stderr",
     "output_type": "stream",
     "text": [
      "C:\\Users\\USER\\anaconda3\\envs\\jupyterlab\\lib\\site-packages\\requests\\packages\\urllib3\\connectionpool.py:852: InsecureRequestWarning: Unverified HTTPS request is being made. Adding certificate verification is strongly advised. See: https://urllib3.readthedocs.io/en/latest/advanced-usage.html#ssl-warnings\n",
      "  InsecureRequestWarning)\n",
      "100%|██████████| 11/11 [07:48<00:00, 42.61s/it]\n"
     ]
    }
   ],
   "source": [
    "import pandas as pd\n",
    "import numpy as np\n",
    "from requests_html import HTMLSession\n",
    "import re\n",
    "import time\n",
    "import os\n",
    "import xlwt\n",
    "from tqdm import tqdm\n",
    "\n",
    "# 伪装成浏览器访问\n",
    "headers = {\n",
    "    'Connection': 'close',\n",
    "    'user-agent':'Mozilla/5.0 (Windows NT 10.0; Win64; x64) AppleWebKit/537.36 (KHTML, like Gecko) Chrome/84.0.4147.105 Safari/537.36'\n",
    "}\n",
    "\n",
    "# 获取请求对象\n",
    "session = HTMLSession()\n",
    "# 存储已经访问过的 html\n",
    "has_get = []\n",
    "# 存储未访问成功的 html\n",
    "not_get = []\n",
    "# 获取当前路径\n",
    "cwd = os.getcwd()\n",
    "# 步入实验一文件夹中\n",
    "os.chdir(cwd+'/国家知识产权局专利统计数据')\n",
    "# 获取当前路径\n",
    "cwd_ = os.getcwd()\n",
    "\n",
    "# 采取遍历访问\n",
    "for year in tqdm(range(2008, 2019)):\n",
    "    os.mkdir(cwd_+'/{}'.format(year))     # 创建文件夹\n",
    "    os.chdir(cwd_+'/{}'.format(year))     # 进入文件夹\n",
    "    url = \"https://www.cnipa.gov.cn/tjxx/jianbao/year{}/indexy.html\".format(year)     # 主页网址\n",
    "    respose = session.get(url, headers = headers, timeout=10, verify=False)     # 获取主页内容\n",
    "    regex = re.compile(r'[a-z].html*')\n",
    "    html_ = regex.findall(\" \".join(respose.html.links))     # 解析主页上的所有链接（相对路径）\n",
    "    \n",
    "    # 遍历访问主页上的所有链接（绝对路径+相对路径）\n",
    "    for suffix in sorted(html_):\n",
    "        url = \"https://www.cnipa.gov.cn/tjxx/jianbao/year{0}/{1}\".format(year, suffix)     # 次主页网址\n",
    "        respose = session.get(url, headers = headers, timeout=10, verify=False)     # 获取次主页内容\n",
    "        regex = re.compile(r'[a-z]/[a-z]\\d+.html')\n",
    "        html_1 = regex.findall(\" \".join(respose.html.links))     # 解析次主页上的所有链接（相对路径）\n",
    "        \n",
    "        # 遍历访问次主页上的所有链接（绝对路径+相对路径）\n",
    "        for suffix_ in sorted(html_1):\n",
    "            url = \"https://www.cnipa.gov.cn/tjxx/jianbao/year{0}/{1}\".format(year, suffix_)    # 次次主页网址\n",
    "            if url not in has_get:    # 检查url是否被重复访问\n",
    "                has_get.append(url)\n",
    "                print(\"访问\"+url)\n",
    "                isOk = True\n",
    "                n = 0      # 记录没访问成功的次数\n",
    "                # 如果访问失败则再次尝试，直到访问成功或失败次数超过3次\n",
    "                while isOk:\n",
    "                    try:\n",
    "                        if n == 3:\n",
    "                            not_get.append(url)\n",
    "                            break\n",
    "                        data = pd.read_html(url)    # 获取网页的table\n",
    "                        isOk = False\n",
    "                    except:\n",
    "                        print(\"连接失败\"+url)\n",
    "                        n += 1\n",
    "                # 判断是否有标题\n",
    "                if ''.join(re.findall('[\\u4e00-\\u9fa5]', data[1].values[0,0])) != '':\n",
    "                    # 将页面上的五个表格分别写入一个excel中\n",
    "                    excelName = data[0].values[0,0][:4]+\"  \"+''.join(re.findall('[\\u4e00-\\u9fa5]', data[1].values[0,0]))+'.xlsx'\n",
    "                    excelTabel= xlwt.Workbook()\n",
    "                    excelTabel.add_sheet(\"sheet\")\n",
    "                    excelTabel.save(excelName)\n",
    "                    write = pd.ExcelWriter(excelName)\n",
    "                    data[0].to_excel(write, index=False, header=False)\n",
    "                    data[1].to_excel(write, startrow=data[0].shape[0]+2, index=False, header=False)\n",
    "                    data[2].to_excel(write, startrow=data[0].shape[0]+data[1].shape[0]+2, index=False, header=False)\n",
    "                    data[3].to_excel(write, startrow=data[0].shape[0]+data[1].shape[0]+data[2].shape[0]+2, index=False, header=False)\n",
    "                    data[4].to_excel(write, startrow=data[0].shape[0]+data[1].shape[0]+data[2].shape[0]+data[3].shape[0]+2, index=False, header=False)\n",
    "                    write.save()\n",
    "            else:\n",
    "                continue\n",
    "                \n",
    "    os.chdir(cwd_)    # 返回实验一目录\n",
    "    \n",
    "os.chdir(cwd)    # 返回主目录"
   ]
  },
  {
   "cell_type": "markdown",
   "metadata": {},
   "source": [
    "### 微博爬虫"
   ]
  },
  {
   "cell_type": "code",
   "execution_count": 1,
   "metadata": {},
   "outputs": [],
   "source": [
    "import pandas as pd\n",
    "from bs4 import BeautifulSoup\n",
    "from selenium import webdriver\n",
    "import re\n",
    "import requests\n",
    "import time\n",
    "from tqdm import tqdm\n",
    "import sys\n",
    "from time import sleep\n",
    "import random"
   ]
  },
  {
   "cell_type": "code",
   "execution_count": null,
   "metadata": {},
   "outputs": [],
   "source": [
    "userName = \"17774858223\"\n",
    "password = \"Qjy450211\"\n",
    "\n",
    "browser = webdriver.Chrome()\n",
    "browser.get('https://weibo.com/')\n",
    "browser.set_window_size(1920, 1080)\n",
    "time.sleep(10)\n",
    "user = browser.find_element_by_id(\"loginname\")\n",
    "user.send_keys(userName)\n",
    "pwd = browser.find_element_by_name(\"password\")\n",
    "pwd.send_keys(password)\n",
    "browser.find_element_by_xpath('/html/body/div[1]/div[1]/div/div[2]/div[1]/div[2]/div/div[2]/div[1]/div[2]/div[1]/div/div/div/div[3]/div[6]/a').click()"
   ]
  },
  {
   "cell_type": "code",
   "execution_count": null,
   "metadata": {},
   "outputs": [],
   "source": [
    "cookies = browser.get_cookies()\n",
    "cookies_l = []\n",
    "cookie = {}\n",
    "for d in cookies:\n",
    "    cookie[d['name']] = d['value']\n",
    "    cookies_l.append(cookie)"
   ]
  },
  {
   "cell_type": "code",
   "execution_count": null,
   "metadata": {},
   "outputs": [],
   "source": [
    "cookie"
   ]
  },
  {
   "cell_type": "code",
   "execution_count": 2,
   "metadata": {},
   "outputs": [],
   "source": [
    "cookie = {'ALF': '1641139219',\n",
    " 'Apache': '7480507342533.189.1609603193446',\n",
    " 'SINAGLOBAL': '7480507342533.189.1609603193446',\n",
    " 'SSOLoginState': '1609603213',\n",
    " 'SUB': '_2A25y9OjDDeRhGeBI6lUS-CjOyTWIHXVRgF0LrDV8PUNbmtANLXDZkW9NRrRyF4hC2wuDVdZ15Gtf-7mXzOSEnDXp',\n",
    " 'SUBP': '0033WrSXqPxfM725Ws9jqgMF55529P9D9WhqHPDQ8V-f07ysLPk5dRXB5JpX5KzhUgL.FoqceKM01hqEeo.2dJLoIEnLxK-LBonL1h-LxK-L1KeLBK-LxKBLBonL1h5LxKqL1--L1-2Eeh5X',\n",
    " 'ULV': '1609603193452:1:1:1:7480507342533.189.1609603193446:',\n",
    " 'WBStorage': '8daec78e6a891122|undefined',\n",
    " '_s_tentry': 'passport.weibo.com',\n",
    " 'cross_origin_proto': 'SSL',\n",
    " 'login_sid_t': '4341097769636f6819369220c7a646b5',\n",
    " 'wb_view_log_6617386229': '1920*10801',\n",
    " 'wvr': '6'}"
   ]
  },
  {
   "cell_type": "code",
   "execution_count": 3,
   "metadata": {},
   "outputs": [],
   "source": [
    "headers = {\n",
    "    'Connection': 'keep-alive',\n",
    "    'X-Requested-With': 'XMLHttpRequest',\n",
    "    'User-Agent': 'Mozilla/5.0 (Windows NT 10.0; Win64; x64) AppleWebKit/537.36 (KHTML, like Gecko) Chrome/78.0.3904.108 Safari/537.36',\n",
    "    'Content-Type': 'application/x-www-form-urlencoded',\n",
    "    'Accept': '*/*',\n",
    "    'Sec-Fetch-Site': 'same-origin',\n",
    "    'Sec-Fetch-Mode': 'cors',\n",
    "    'Referer': 'https://weibo.com/u/2611704875?from=myfollow_all&is_all=1',\n",
    "    'Accept-Encoding': 'gzip, deflate, br',\n",
    "    'Accept-Language': 'zh-CN,zh;q=0.9'\n",
    "}"
   ]
  },
  {
   "cell_type": "code",
   "execution_count": 4,
   "metadata": {},
   "outputs": [
    {
     "name": "stderr",
     "output_type": "stream",
     "text": [
      "100%|██████████| 100/100 [04:06<00:00,  2.47s/it]\n"
     ]
    }
   ],
   "source": [
    "all_data = []\n",
    "\n",
    "for i in tqdm(range(1, 101)):\n",
    "    for j in ('0', '1'):\n",
    "        url = 'https://weibo.com/p/aj/v6/mblog/mbloglist?ajwvr=6&domain=100106&from=myfollow_all&is_all=1&pagebar={}&pl_name=Pl_Official_MyProfileFeed__24&id=1001062611704875&script_uri=/u/2611704875&feed_type=0&page={}&pre_page={}&domain_op=100106&__rnd={}'.format(j, i, 1, int(round(time.time() * 1000)))\n",
    "        try:\n",
    "            sleep(random.uniform(0, 0.5))\n",
    "            response = requests.get(url, cookies=cookie, headers=headers)\n",
    "            if response.status_code == 200:\n",
    "                json = response.json()\n",
    "            else:\n",
    "                print('访问失败'+response.status_code)\n",
    "        except Exception as e:\n",
    "            print(sys.exc_info())\n",
    "            continue\n",
    "        if json is not None:\n",
    "            soup = BeautifulSoup(json['data'], \"html.parser\")\n",
    "            for k in soup.find_all('div',class_=\"WB_cardwrap WB_feed_type S_bg2 WB_feed_like\"):\n",
    "                data = {} \n",
    "                data['内容'] = re.sub('\\s+','',k.find('div',class_=\"WB_text W_f14\").text.strip().replace('\\u200b', '')) \n",
    "                data['时间'] = k.find('div',class_=\"WB_from S_txt2\").find('a').get('title')\n",
    "                if len(k.find('div',class_=\"WB_from S_txt2\").text.strip().split()) > 2:\n",
    "                    data['来源'] = k.find('div',class_=\"WB_from S_txt2\").text.strip().split()[3]\n",
    "                else:\n",
    "                    data['来源'] = \"\"\n",
    "                trans = k.find_all('span',class_=\"line S_line1\")[1]\n",
    "                if '转发' in str(trans):\n",
    "                    data['转发'] = 0\n",
    "                else:\n",
    "                    data['转发'] = trans.text.replace('\\ue607','')\n",
    "\n",
    "                comment = k.find_all('span',class_=\"line S_line1\")[2]\n",
    "                if '评论' in str(comment):\n",
    "                    data['评论'] = 0\n",
    "                else:\n",
    "                    data['评论'] = comment.text.replace('\\ue608','')\n",
    "\n",
    "                like = k.find_all('span',class_=\"line S_line1\")[3]\n",
    "                if '赞' in str(like):\n",
    "                    data['点赞'] = 0\n",
    "                else:\n",
    "                    data['点赞'] = like.text.replace('\\nñ','').strip()\n",
    "\n",
    "                all_data.append(data)"
   ]
  },
  {
   "cell_type": "code",
   "execution_count": 5,
   "metadata": {},
   "outputs": [
    {
     "data": {
      "text/html": [
       "<div>\n",
       "<style scoped>\n",
       "    .dataframe tbody tr th:only-of-type {\n",
       "        vertical-align: middle;\n",
       "    }\n",
       "\n",
       "    .dataframe tbody tr th {\n",
       "        vertical-align: top;\n",
       "    }\n",
       "\n",
       "    .dataframe thead th {\n",
       "        text-align: right;\n",
       "    }\n",
       "</style>\n",
       "<table border=\"1\" class=\"dataframe\">\n",
       "  <thead>\n",
       "    <tr style=\"text-align: right;\">\n",
       "      <th></th>\n",
       "      <th>内容</th>\n",
       "      <th>时间</th>\n",
       "      <th>来源</th>\n",
       "      <th>转发</th>\n",
       "      <th>评论</th>\n",
       "      <th>点赞</th>\n",
       "    </tr>\n",
       "  </thead>\n",
       "  <tbody>\n",
       "    <tr>\n",
       "      <th>0</th>\n",
       "      <td>[2020年1-11月北京市知识产权数据]</td>\n",
       "      <td>2020-12-23 09:36</td>\n",
       "      <td>微博</td>\n",
       "      <td>0</td>\n",
       "      <td>0</td>\n",
       "      <td>0</td>\n",
       "    </tr>\n",
       "    <tr>\n",
       "      <th>1</th>\n",
       "      <td>【通州中小学在校生申请专利获授权最高可获3万元资助】新办法还明确，通州区中小学在校学生申请专...</td>\n",
       "      <td>2020-12-22 18:04</td>\n",
       "      <td>微博</td>\n",
       "      <td>0</td>\n",
       "      <td>0</td>\n",
       "      <td>0</td>\n",
       "    </tr>\n",
       "    <tr>\n",
       "      <th>2</th>\n",
       "      <td>【北京知识产权法院向伪证行为“亮剑”就八起行政诉讼开出罚单】12月18日，北京知识产权法院对...</td>\n",
       "      <td>2020-12-21 18:14</td>\n",
       "      <td>微博</td>\n",
       "      <td>2</td>\n",
       "      <td>2</td>\n",
       "      <td>1</td>\n",
       "    </tr>\n",
       "    <tr>\n",
       "      <th>3</th>\n",
       "      <td>【中央经济工作会议在北京举行习近平李克强作重要讲话】中央经济工作会议12月16日至18日在北...</td>\n",
       "      <td>2020-12-21 18:13</td>\n",
       "      <td>微博</td>\n",
       "      <td>0</td>\n",
       "      <td>0</td>\n",
       "      <td>0</td>\n",
       "    </tr>\n",
       "    <tr>\n",
       "      <th>4</th>\n",
       "      <td>【2021“我向总理说句话”网民建言征集活动来了！】我向总理说句话，留言直达国务院。关于统筹...</td>\n",
       "      <td>2020-12-21 18:06</td>\n",
       "      <td>微博</td>\n",
       "      <td>0</td>\n",
       "      <td>0</td>\n",
       "      <td>0</td>\n",
       "    </tr>\n",
       "    <tr>\n",
       "      <th>...</th>\n",
       "      <td>...</td>\n",
       "      <td>...</td>\n",
       "      <td>...</td>\n",
       "      <td>...</td>\n",
       "      <td>...</td>\n",
       "      <td>...</td>\n",
       "    </tr>\n",
       "    <tr>\n",
       "      <th>2775</th>\n",
       "      <td>【苹果AR/VR新专利曝光iPhone或率先搭载】美国专利和商标局（USPTO）近日通过了苹...</td>\n",
       "      <td>2017-02-04 15:56</td>\n",
       "      <td>政务直通車</td>\n",
       "      <td>2</td>\n",
       "      <td>1</td>\n",
       "      <td>0</td>\n",
       "    </tr>\n",
       "    <tr>\n",
       "      <th>2776</th>\n",
       "      <td>【今年首批重点作品版权保护预警名单发布】近日，国家版权局公布2017年度第一批重点作品版权保...</td>\n",
       "      <td>2017-02-04 09:23</td>\n",
       "      <td>政务直通車</td>\n",
       "      <td>4</td>\n",
       "      <td>0</td>\n",
       "      <td>1</td>\n",
       "    </tr>\n",
       "    <tr>\n",
       "      <th>2777</th>\n",
       "      <td>【2017年世界知识产权日主题公布】2017年，我们来庆祝“创新改变生活”。哪种创新对你的生...</td>\n",
       "      <td>2017-02-03 16:58</td>\n",
       "      <td>政务直通車</td>\n",
       "      <td>1</td>\n",
       "      <td>3</td>\n",
       "      <td>0</td>\n",
       "    </tr>\n",
       "    <tr>\n",
       "      <th>2778</th>\n",
       "      <td>【法治周末:中国知识产权大保护格局这样建】知识经济时代，知识产权作为一个企业乃至国家提高核心...</td>\n",
       "      <td>2017-02-03 09:31</td>\n",
       "      <td>政务直通車</td>\n",
       "      <td>2</td>\n",
       "      <td>0</td>\n",
       "      <td>1</td>\n",
       "    </tr>\n",
       "    <tr>\n",
       "      <th>2779</th>\n",
       "      <td>【2016年知识产权系统查处专利侵权假冒违法案件成效显著--执法办案结构进一步优化】2016...</td>\n",
       "      <td>2017-01-24 09:33</td>\n",
       "      <td>政务直通車</td>\n",
       "      <td>7</td>\n",
       "      <td>1</td>\n",
       "      <td>1</td>\n",
       "    </tr>\n",
       "  </tbody>\n",
       "</table>\n",
       "<p>2780 rows × 6 columns</p>\n",
       "</div>"
      ],
      "text/plain": [
       "                                                     内容                时间  \\\n",
       "0                                 [2020年1-11月北京市知识产权数据]  2020-12-23 09:36   \n",
       "1     【通州中小学在校生申请专利获授权最高可获3万元资助】新办法还明确，通州区中小学在校学生申请专...  2020-12-22 18:04   \n",
       "2     【北京知识产权法院向伪证行为“亮剑”就八起行政诉讼开出罚单】12月18日，北京知识产权法院对...  2020-12-21 18:14   \n",
       "3     【中央经济工作会议在北京举行习近平李克强作重要讲话】中央经济工作会议12月16日至18日在北...  2020-12-21 18:13   \n",
       "4     【2021“我向总理说句话”网民建言征集活动来了！】我向总理说句话，留言直达国务院。关于统筹...  2020-12-21 18:06   \n",
       "...                                                 ...               ...   \n",
       "2775  【苹果AR/VR新专利曝光iPhone或率先搭载】美国专利和商标局（USPTO）近日通过了苹...  2017-02-04 15:56   \n",
       "2776  【今年首批重点作品版权保护预警名单发布】近日，国家版权局公布2017年度第一批重点作品版权保...  2017-02-04 09:23   \n",
       "2777  【2017年世界知识产权日主题公布】2017年，我们来庆祝“创新改变生活”。哪种创新对你的生...  2017-02-03 16:58   \n",
       "2778  【法治周末:中国知识产权大保护格局这样建】知识经济时代，知识产权作为一个企业乃至国家提高核心...  2017-02-03 09:31   \n",
       "2779  【2016年知识产权系统查处专利侵权假冒违法案件成效显著--执法办案结构进一步优化】2016...  2017-01-24 09:33   \n",
       "\n",
       "         来源 转发 评论 点赞  \n",
       "0        微博  0  0  0  \n",
       "1        微博  0  0  0  \n",
       "2        微博  2  2  1  \n",
       "3        微博  0  0  0  \n",
       "4        微博  0  0  0  \n",
       "...     ... .. .. ..  \n",
       "2775  政务直通車  2  1  0  \n",
       "2776  政务直通車  4  0  1  \n",
       "2777  政务直通車  1  3  0  \n",
       "2778  政务直通車  2  0  1  \n",
       "2779  政务直通車  7  1  1  \n",
       "\n",
       "[2780 rows x 6 columns]"
      ]
     },
     "execution_count": 5,
     "metadata": {},
     "output_type": "execute_result"
    }
   ],
   "source": [
    "all_data = pd.DataFrame(all_data)\n",
    "all_data"
   ]
  },
  {
   "cell_type": "code",
   "execution_count": 6,
   "metadata": {},
   "outputs": [],
   "source": [
    "all_data.to_excel('./北京知识产权官方微博数据爬取.xlsx')"
   ]
  },
  {
   "cell_type": "markdown",
   "metadata": {},
   "source": [
    "### 佰腾网爬虫"
   ]
  },
  {
   "cell_type": "code",
   "execution_count": 1,
   "metadata": {},
   "outputs": [],
   "source": [
    "from urllib.parse import urlencode\n",
    "import csv\n",
    "import random\n",
    "import requests\n",
    "import traceback\n",
    "from time import sleep\n",
    "import numpy as np\n",
    "import re\n",
    "import pandas as pd\n",
    "from tqdm import tqdm"
   ]
  },
  {
   "cell_type": "code",
   "execution_count": 2,
   "metadata": {},
   "outputs": [],
   "source": [
    "base_url = 'https://www.baiten.cn/results/filter?'"
   ]
  },
  {
   "cell_type": "code",
   "execution_count": 3,
   "metadata": {},
   "outputs": [],
   "source": [
    "headers = {\n",
    "    'Connection': 'keep-alive',\n",
    "    'Accept': '*/*',\n",
    "    'X-Requested-With': 'XMLHttpRequest',\n",
    "    'User-Agent': 'Mozilla/5.0 (Windows NT 10.0; Win64; x64) AppleWebKit/537.36 (KHTML, like Gecko) Chrome/87.0.4280.88 Safari/537.36 Edg/87.0.664.66',\n",
    "    'Origin': 'http://www.hshfy.sh.cn',\n",
    "    'Referer': 'http://www.hshfy.sh.cn/shfy/gweb2017/ktgg_search.jsp?zd=splc',\n",
    "    'Accept-Language': 'zh-CN,zh;q=0.9',\n",
    "    'Content-Type': 'application/x-www-form-urlencoded',\n",
    "    'Cookie': 'yunsuo_session_verify=fa3ec82197b75c4fc9b421f6d9cc518b; JSESSIONID=0356E5924DFFCE14AAF0A3201A6A7180; Hm_lvt_7fc44f078bf7b5e19489428c362109a3=1609465896; UM_distinctid=176bba49ab760-02ff8442486b7e-5a301e44-1fa400-176bba49ab8368; CNZZDATA1275904268=1445559182-1609462773-%7C1609468176; zlcp202101=true; BSESSION=3ba135cd396a5b96820206450bea0a9b3d82a9404a7a4964; PD=804b06c60a7659e10098c2f494dc28716c2e9f8cd5cbbf2c2ced7c0908b7fb63c1810531646f9438; zg_did=%7B%22did%22%3A%20%22176bba49acc236-0485c245161fe8-5a301e44-1fa400-176bba49acd7e%22%7D; zg_a965386b4f3b4914b0c2043d3472cde5=%7B%22sid%22%3A%201609468182289%2C%22updated%22%3A%201609469584052%2C%22info%22%3A%201609465895635%2C%22superProperty%22%3A%20%22%7B%5C%22%E5%BA%94%E7%94%A8%E5%90%8D%E7%A7%B0%5C%22%3A%20%5C%22%E6%95%B0%E6%8D%AE%E6%8C%87%E9%92%88%5C%22%7D%22%2C%22platform%22%3A%20%22%7B%7D%22%2C%22utm%22%3A%20%22%7B%7D%22%2C%22referrerDomain%22%3A%20%22%22%2C%22landHref%22%3A%20%22https%3A%2F%2Fwww.baiten.cn%2Fgjs.html%22%2C%22zs%22%3A%200%2C%22sc%22%3A%200%2C%22firstScreen%22%3A%201609468182289%2C%22cuid%22%3A%20%2217774858223%22%7D; Hm_lpvt_7fc44f078bf7b5e19489428c362109a3=1609469584'\n",
    "}"
   ]
  },
  {
   "cell_type": "code",
   "execution_count": 4,
   "metadata": {},
   "outputs": [],
   "source": [
    "def get_page(province, year):\n",
    "    n = 3\n",
    "    q = 'aa:({}) AND (pd:({}))'.format(province, year)\n",
    "    while True:\n",
    "        try:\n",
    "            sleep(random.uniform(1, 2))\n",
    "            data = {\n",
    "                'q': q,\n",
    "                'fq': '',\n",
    "                'sc': '35184372088831',\n",
    "                'pageSize': ''\n",
    "              }\n",
    "            url = base_url + urlencode(data)\n",
    "            try:\n",
    "                response = requests.request(\"POST\", url, headers = headers)\n",
    "                if response.status_code == 200:\n",
    "                    re = response.content.decode('gbk')\n",
    "                    return re  # 解析内容\n",
    "            except requests.ConnectionError as e:\n",
    "                print('Error', e.args)  \n",
    "        except (TimeoutError, Exception):\n",
    "            n -= 1\n",
    "            if n == 0:\n",
    "                print('请求3次均失败，放弃此url请求,检查请求条件')\n",
    "                return\n",
    "            else:\n",
    "                print('请求失败，重新请求')\n",
    "                continue"
   ]
  },
  {
   "cell_type": "code",
   "execution_count": 5,
   "metadata": {},
   "outputs": [],
   "source": [
    "year = [str(y) for y in np.arange(1985,2020)]\n",
    "province = {\n",
    "     '北京': '华北',\n",
    "     '上海': '华东',\n",
    "     '天津': '华北',\n",
    "     '重庆': '西南',\n",
    "     '河北': '华北',\n",
    "     '山西': '华北',\n",
    "     '河南': '华中',\n",
    "     '辽宁': '东北',\n",
    "     '吉林': '东北',\n",
    "     '黑龙江': '东北',\n",
    "     '内蒙古': '华北',\n",
    "     '江苏': '华东',\n",
    "     '山东': '华东',\n",
    "     '安徽': '华东',\n",
    "     '浙江': '华东',\n",
    "     '福建': '华东',\n",
    "     '湖北': '华中',\n",
    "     '湖南': '华中',\n",
    "     '广东': '华南',\n",
    "     '广西': '华南',\n",
    "     '江西': '华东',\n",
    "     '四川': '西南',\n",
    "     '海南': '华南',\n",
    "     '贵州': '西南',\n",
    "     '云南': '西南',\n",
    "     '陕西': '西北',\n",
    "     '甘肃': '西北',\n",
    "     '青海': '西北',\n",
    "     '宁夏': '西北',\n",
    "     '新疆': '西北',\n",
    "     '香港': '华南',\n",
    "     '台湾': '华东',\n",
    "     '澳门': '华南',\n",
    "     '西藏': '西南',\n",
    "}\n",
    "province = list(province.keys())"
   ]
  },
  {
   "cell_type": "code",
   "execution_count": 6,
   "metadata": {},
   "outputs": [
    {
     "data": {
      "text/plain": [
       "['1985',\n",
       " '1986',\n",
       " '1987',\n",
       " '1988',\n",
       " '1989',\n",
       " '1990',\n",
       " '1991',\n",
       " '1992',\n",
       " '1993',\n",
       " '1994',\n",
       " '1995',\n",
       " '1996',\n",
       " '1997',\n",
       " '1998',\n",
       " '1999',\n",
       " '2000',\n",
       " '2001',\n",
       " '2002',\n",
       " '2003',\n",
       " '2004',\n",
       " '2005',\n",
       " '2006',\n",
       " '2007',\n",
       " '2008',\n",
       " '2009',\n",
       " '2010',\n",
       " '2011',\n",
       " '2012',\n",
       " '2013',\n",
       " '2014',\n",
       " '2015',\n",
       " '2016',\n",
       " '2017',\n",
       " '2018',\n",
       " '2019']"
      ]
     },
     "execution_count": 6,
     "metadata": {},
     "output_type": "execute_result"
    }
   ],
   "source": [
    "year"
   ]
  },
  {
   "cell_type": "code",
   "execution_count": 7,
   "metadata": {},
   "outputs": [
    {
     "data": {
      "text/plain": [
       "['北京',\n",
       " '上海',\n",
       " '天津',\n",
       " '重庆',\n",
       " '河北',\n",
       " '山西',\n",
       " '河南',\n",
       " '辽宁',\n",
       " '吉林',\n",
       " '黑龙江',\n",
       " '内蒙古',\n",
       " '江苏',\n",
       " '山东',\n",
       " '安徽',\n",
       " '浙江',\n",
       " '福建',\n",
       " '湖北',\n",
       " '湖南',\n",
       " '广东',\n",
       " '广西',\n",
       " '江西',\n",
       " '四川',\n",
       " '海南',\n",
       " '贵州',\n",
       " '云南',\n",
       " '陕西',\n",
       " '甘肃',\n",
       " '青海',\n",
       " '宁夏',\n",
       " '新疆',\n",
       " '香港',\n",
       " '台湾',\n",
       " '澳门',\n",
       " '西藏']"
      ]
     },
     "execution_count": 7,
     "metadata": {},
     "output_type": "execute_result"
    }
   ],
   "source": [
    "province"
   ]
  },
  {
   "cell_type": "code",
   "execution_count": 8,
   "metadata": {},
   "outputs": [
    {
     "name": "stderr",
     "output_type": "stream",
     "text": [
      "Processing:: 100%|██████████| 35/35 [34:01<00:00, 58.33s/it]\n"
     ]
    }
   ],
   "source": [
    "with tqdm(total=len(year)) as pbar:\n",
    "    pbar.set_description('Processing:')\n",
    "    data = []\n",
    "    for y in year:\n",
    "        for p in province:\n",
    "            html = get_page(p, y)\n",
    "            columns = [x[:x.find(':')].replace('\"','') for x in re.findall(r'\"\\w+\".\\d+',html)]\n",
    "            value = [int(x[x.find(':')+1:].replace('\"','')) for x in re.findall(r'\"\\w+\".\\d+',html)]\n",
    "            dict_data = dict(dict(zip(columns,value)),**dict(zip(['年份','省份'],[y,p])))\n",
    "            data.append(dict_data)     \n",
    "        pbar.update(1)"
   ]
  },
  {
   "cell_type": "code",
   "execution_count": 15,
   "metadata": {},
   "outputs": [],
   "source": [
    "data_df = pd.DataFrame(data)"
   ]
  },
  {
   "cell_type": "code",
   "execution_count": 16,
   "metadata": {},
   "outputs": [
    {
     "data": {
      "text/html": [
       "<div>\n",
       "<style scoped>\n",
       "    .dataframe tbody tr th:only-of-type {\n",
       "        vertical-align: middle;\n",
       "    }\n",
       "\n",
       "    .dataframe tbody tr th {\n",
       "        vertical-align: top;\n",
       "    }\n",
       "\n",
       "    .dataframe thead th {\n",
       "        text-align: right;\n",
       "    }\n",
       "</style>\n",
       "<table border=\"1\" class=\"dataframe\">\n",
       "  <thead>\n",
       "    <tr style=\"text-align: right;\">\n",
       "      <th></th>\n",
       "      <th>cn_um</th>\n",
       "      <th>cn_in</th>\n",
       "      <th>cn_gp</th>\n",
       "      <th>cn_id</th>\n",
       "      <th>cn_in_gp</th>\n",
       "      <th>年份</th>\n",
       "      <th>省份</th>\n",
       "      <th>tw</th>\n",
       "      <th>wo</th>\n",
       "    </tr>\n",
       "  </thead>\n",
       "  <tbody>\n",
       "    <tr>\n",
       "      <th>0</th>\n",
       "      <td>82.0</td>\n",
       "      <td>52.0</td>\n",
       "      <td>41.0</td>\n",
       "      <td>25.0</td>\n",
       "      <td>11.0</td>\n",
       "      <td>1985</td>\n",
       "      <td>北京</td>\n",
       "      <td>NaN</td>\n",
       "      <td>NaN</td>\n",
       "    </tr>\n",
       "    <tr>\n",
       "      <th>1</th>\n",
       "      <td>5.0</td>\n",
       "      <td>15.0</td>\n",
       "      <td>9.0</td>\n",
       "      <td>3.0</td>\n",
       "      <td>6.0</td>\n",
       "      <td>1985</td>\n",
       "      <td>上海</td>\n",
       "      <td>NaN</td>\n",
       "      <td>NaN</td>\n",
       "    </tr>\n",
       "    <tr>\n",
       "      <th>2</th>\n",
       "      <td>9.0</td>\n",
       "      <td>22.0</td>\n",
       "      <td>11.0</td>\n",
       "      <td>23.0</td>\n",
       "      <td>11.0</td>\n",
       "      <td>1985</td>\n",
       "      <td>天津</td>\n",
       "      <td>1.0</td>\n",
       "      <td>NaN</td>\n",
       "    </tr>\n",
       "    <tr>\n",
       "      <th>3</th>\n",
       "      <td>1.0</td>\n",
       "      <td>2.0</td>\n",
       "      <td>1.0</td>\n",
       "      <td>1.0</td>\n",
       "      <td>1.0</td>\n",
       "      <td>1985</td>\n",
       "      <td>重庆</td>\n",
       "      <td>57.0</td>\n",
       "      <td>NaN</td>\n",
       "    </tr>\n",
       "    <tr>\n",
       "      <th>4</th>\n",
       "      <td>3.0</td>\n",
       "      <td>3.0</td>\n",
       "      <td>3.0</td>\n",
       "      <td>NaN</td>\n",
       "      <td>0.0</td>\n",
       "      <td>1985</td>\n",
       "      <td>河北</td>\n",
       "      <td>6.0</td>\n",
       "      <td>NaN</td>\n",
       "    </tr>\n",
       "    <tr>\n",
       "      <th>...</th>\n",
       "      <td>...</td>\n",
       "      <td>...</td>\n",
       "      <td>...</td>\n",
       "      <td>...</td>\n",
       "      <td>...</td>\n",
       "      <td>...</td>\n",
       "      <td>...</td>\n",
       "      <td>...</td>\n",
       "      <td>...</td>\n",
       "    </tr>\n",
       "    <tr>\n",
       "      <th>1185</th>\n",
       "      <td>6836.0</td>\n",
       "      <td>3770.0</td>\n",
       "      <td>242.0</td>\n",
       "      <td>1008.0</td>\n",
       "      <td>3528.0</td>\n",
       "      <td>2019</td>\n",
       "      <td>新疆</td>\n",
       "      <td>NaN</td>\n",
       "      <td>35.0</td>\n",
       "    </tr>\n",
       "    <tr>\n",
       "      <th>1186</th>\n",
       "      <td>2403.0</td>\n",
       "      <td>3450.0</td>\n",
       "      <td>209.0</td>\n",
       "      <td>1746.0</td>\n",
       "      <td>3241.0</td>\n",
       "      <td>2019</td>\n",
       "      <td>香港</td>\n",
       "      <td>NaN</td>\n",
       "      <td>1275.0</td>\n",
       "    </tr>\n",
       "    <tr>\n",
       "      <th>1187</th>\n",
       "      <td>6138.0</td>\n",
       "      <td>12547.0</td>\n",
       "      <td>1250.0</td>\n",
       "      <td>1517.0</td>\n",
       "      <td>11297.0</td>\n",
       "      <td>2019</td>\n",
       "      <td>台湾</td>\n",
       "      <td>NaN</td>\n",
       "      <td>338.0</td>\n",
       "    </tr>\n",
       "    <tr>\n",
       "      <th>1188</th>\n",
       "      <td>191.0</td>\n",
       "      <td>173.0</td>\n",
       "      <td>8.0</td>\n",
       "      <td>75.0</td>\n",
       "      <td>165.0</td>\n",
       "      <td>2019</td>\n",
       "      <td>澳门</td>\n",
       "      <td>NaN</td>\n",
       "      <td>2.0</td>\n",
       "    </tr>\n",
       "    <tr>\n",
       "      <th>1189</th>\n",
       "      <td>865.0</td>\n",
       "      <td>681.0</td>\n",
       "      <td>31.0</td>\n",
       "      <td>339.0</td>\n",
       "      <td>650.0</td>\n",
       "      <td>2019</td>\n",
       "      <td>西藏</td>\n",
       "      <td>NaN</td>\n",
       "      <td>5.0</td>\n",
       "    </tr>\n",
       "  </tbody>\n",
       "</table>\n",
       "<p>1190 rows × 9 columns</p>\n",
       "</div>"
      ],
      "text/plain": [
       "       cn_um    cn_in   cn_gp   cn_id  cn_in_gp    年份  省份    tw      wo\n",
       "0       82.0     52.0    41.0    25.0      11.0  1985  北京   NaN     NaN\n",
       "1        5.0     15.0     9.0     3.0       6.0  1985  上海   NaN     NaN\n",
       "2        9.0     22.0    11.0    23.0      11.0  1985  天津   1.0     NaN\n",
       "3        1.0      2.0     1.0     1.0       1.0  1985  重庆  57.0     NaN\n",
       "4        3.0      3.0     3.0     NaN       0.0  1985  河北   6.0     NaN\n",
       "...      ...      ...     ...     ...       ...   ...  ..   ...     ...\n",
       "1185  6836.0   3770.0   242.0  1008.0    3528.0  2019  新疆   NaN    35.0\n",
       "1186  2403.0   3450.0   209.0  1746.0    3241.0  2019  香港   NaN  1275.0\n",
       "1187  6138.0  12547.0  1250.0  1517.0   11297.0  2019  台湾   NaN   338.0\n",
       "1188   191.0    173.0     8.0    75.0     165.0  2019  澳门   NaN     2.0\n",
       "1189   865.0    681.0    31.0   339.0     650.0  2019  西藏   NaN     5.0\n",
       "\n",
       "[1190 rows x 9 columns]"
      ]
     },
     "execution_count": 16,
     "metadata": {},
     "output_type": "execute_result"
    }
   ],
   "source": [
    "data_df"
   ]
  },
  {
   "cell_type": "code",
   "execution_count": 17,
   "metadata": {},
   "outputs": [
    {
     "name": "stderr",
     "output_type": "stream",
     "text": [
      "C:\\Users\\USER\\anaconda3\\envs\\jupyterlab\\lib\\site-packages\\ipykernel_launcher.py:1: UserWarning: Boolean Series key will be reindexed to match DataFrame index.\n",
      "  \"\"\"Entry point for launching an IPython kernel.\n"
     ]
    },
    {
     "data": {
      "text/html": [
       "<div>\n",
       "<style scoped>\n",
       "    .dataframe tbody tr th:only-of-type {\n",
       "        vertical-align: middle;\n",
       "    }\n",
       "\n",
       "    .dataframe tbody tr th {\n",
       "        vertical-align: top;\n",
       "    }\n",
       "\n",
       "    .dataframe thead th {\n",
       "        text-align: right;\n",
       "    }\n",
       "</style>\n",
       "<table border=\"1\" class=\"dataframe\">\n",
       "  <thead>\n",
       "    <tr style=\"text-align: right;\">\n",
       "      <th></th>\n",
       "      <th>cn_um</th>\n",
       "      <th>cn_in</th>\n",
       "      <th>cn_gp</th>\n",
       "      <th>cn_id</th>\n",
       "      <th>cn_in_gp</th>\n",
       "      <th>年份</th>\n",
       "      <th>省份</th>\n",
       "      <th>tw</th>\n",
       "      <th>wo</th>\n",
       "    </tr>\n",
       "  </thead>\n",
       "  <tbody>\n",
       "    <tr>\n",
       "      <th>1021</th>\n",
       "      <td>33247.0</td>\n",
       "      <td>42712.0</td>\n",
       "      <td>21709.0</td>\n",
       "      <td>9830.0</td>\n",
       "      <td>21003.0</td>\n",
       "      <td>2015</td>\n",
       "      <td>上海</td>\n",
       "      <td>NaN</td>\n",
       "      <td>NaN</td>\n",
       "    </tr>\n",
       "  </tbody>\n",
       "</table>\n",
       "</div>"
      ],
      "text/plain": [
       "        cn_um    cn_in    cn_gp   cn_id  cn_in_gp    年份  省份  tw  wo\n",
       "1021  33247.0  42712.0  21709.0  9830.0   21003.0  2015  上海 NaN NaN"
      ]
     },
     "execution_count": 17,
     "metadata": {},
     "output_type": "execute_result"
    }
   ],
   "source": [
    "data_df[data_df['年份']=='2015'][data_df['省份']=='上海']"
   ]
  },
  {
   "cell_type": "code",
   "execution_count": 18,
   "metadata": {},
   "outputs": [],
   "source": [
    "data_df.columns = ['实用新型专利','发明专利','发明授权专利','外观专利','发明公开专利','年份','省份','tw','wo']\n",
    "data_df.drop(['tw','wo'], axis=1, inplace=True)"
   ]
  },
  {
   "cell_type": "code",
   "execution_count": 19,
   "metadata": {},
   "outputs": [
    {
     "data": {
      "text/html": [
       "<div>\n",
       "<style scoped>\n",
       "    .dataframe tbody tr th:only-of-type {\n",
       "        vertical-align: middle;\n",
       "    }\n",
       "\n",
       "    .dataframe tbody tr th {\n",
       "        vertical-align: top;\n",
       "    }\n",
       "\n",
       "    .dataframe thead th {\n",
       "        text-align: right;\n",
       "    }\n",
       "</style>\n",
       "<table border=\"1\" class=\"dataframe\">\n",
       "  <thead>\n",
       "    <tr style=\"text-align: right;\">\n",
       "      <th></th>\n",
       "      <th>实用新型专利</th>\n",
       "      <th>发明专利</th>\n",
       "      <th>发明授权专利</th>\n",
       "      <th>外观专利</th>\n",
       "      <th>发明公开专利</th>\n",
       "      <th>年份</th>\n",
       "      <th>省份</th>\n",
       "    </tr>\n",
       "  </thead>\n",
       "  <tbody>\n",
       "    <tr>\n",
       "      <th>0</th>\n",
       "      <td>82.0</td>\n",
       "      <td>52.0</td>\n",
       "      <td>41.0</td>\n",
       "      <td>25.0</td>\n",
       "      <td>11.0</td>\n",
       "      <td>1985</td>\n",
       "      <td>北京</td>\n",
       "    </tr>\n",
       "    <tr>\n",
       "      <th>1</th>\n",
       "      <td>5.0</td>\n",
       "      <td>15.0</td>\n",
       "      <td>9.0</td>\n",
       "      <td>3.0</td>\n",
       "      <td>6.0</td>\n",
       "      <td>1985</td>\n",
       "      <td>上海</td>\n",
       "    </tr>\n",
       "    <tr>\n",
       "      <th>2</th>\n",
       "      <td>9.0</td>\n",
       "      <td>22.0</td>\n",
       "      <td>11.0</td>\n",
       "      <td>23.0</td>\n",
       "      <td>11.0</td>\n",
       "      <td>1985</td>\n",
       "      <td>天津</td>\n",
       "    </tr>\n",
       "    <tr>\n",
       "      <th>3</th>\n",
       "      <td>1.0</td>\n",
       "      <td>2.0</td>\n",
       "      <td>1.0</td>\n",
       "      <td>1.0</td>\n",
       "      <td>1.0</td>\n",
       "      <td>1985</td>\n",
       "      <td>重庆</td>\n",
       "    </tr>\n",
       "    <tr>\n",
       "      <th>4</th>\n",
       "      <td>3.0</td>\n",
       "      <td>3.0</td>\n",
       "      <td>3.0</td>\n",
       "      <td>NaN</td>\n",
       "      <td>0.0</td>\n",
       "      <td>1985</td>\n",
       "      <td>河北</td>\n",
       "    </tr>\n",
       "    <tr>\n",
       "      <th>...</th>\n",
       "      <td>...</td>\n",
       "      <td>...</td>\n",
       "      <td>...</td>\n",
       "      <td>...</td>\n",
       "      <td>...</td>\n",
       "      <td>...</td>\n",
       "      <td>...</td>\n",
       "    </tr>\n",
       "    <tr>\n",
       "      <th>1185</th>\n",
       "      <td>6836.0</td>\n",
       "      <td>3770.0</td>\n",
       "      <td>242.0</td>\n",
       "      <td>1008.0</td>\n",
       "      <td>3528.0</td>\n",
       "      <td>2019</td>\n",
       "      <td>新疆</td>\n",
       "    </tr>\n",
       "    <tr>\n",
       "      <th>1186</th>\n",
       "      <td>2403.0</td>\n",
       "      <td>3450.0</td>\n",
       "      <td>209.0</td>\n",
       "      <td>1746.0</td>\n",
       "      <td>3241.0</td>\n",
       "      <td>2019</td>\n",
       "      <td>香港</td>\n",
       "    </tr>\n",
       "    <tr>\n",
       "      <th>1187</th>\n",
       "      <td>6138.0</td>\n",
       "      <td>12547.0</td>\n",
       "      <td>1250.0</td>\n",
       "      <td>1517.0</td>\n",
       "      <td>11297.0</td>\n",
       "      <td>2019</td>\n",
       "      <td>台湾</td>\n",
       "    </tr>\n",
       "    <tr>\n",
       "      <th>1188</th>\n",
       "      <td>191.0</td>\n",
       "      <td>173.0</td>\n",
       "      <td>8.0</td>\n",
       "      <td>75.0</td>\n",
       "      <td>165.0</td>\n",
       "      <td>2019</td>\n",
       "      <td>澳门</td>\n",
       "    </tr>\n",
       "    <tr>\n",
       "      <th>1189</th>\n",
       "      <td>865.0</td>\n",
       "      <td>681.0</td>\n",
       "      <td>31.0</td>\n",
       "      <td>339.0</td>\n",
       "      <td>650.0</td>\n",
       "      <td>2019</td>\n",
       "      <td>西藏</td>\n",
       "    </tr>\n",
       "  </tbody>\n",
       "</table>\n",
       "<p>1190 rows × 7 columns</p>\n",
       "</div>"
      ],
      "text/plain": [
       "      实用新型专利     发明专利  发明授权专利    外观专利   发明公开专利    年份  省份\n",
       "0       82.0     52.0    41.0    25.0     11.0  1985  北京\n",
       "1        5.0     15.0     9.0     3.0      6.0  1985  上海\n",
       "2        9.0     22.0    11.0    23.0     11.0  1985  天津\n",
       "3        1.0      2.0     1.0     1.0      1.0  1985  重庆\n",
       "4        3.0      3.0     3.0     NaN      0.0  1985  河北\n",
       "...      ...      ...     ...     ...      ...   ...  ..\n",
       "1185  6836.0   3770.0   242.0  1008.0   3528.0  2019  新疆\n",
       "1186  2403.0   3450.0   209.0  1746.0   3241.0  2019  香港\n",
       "1187  6138.0  12547.0  1250.0  1517.0  11297.0  2019  台湾\n",
       "1188   191.0    173.0     8.0    75.0    165.0  2019  澳门\n",
       "1189   865.0    681.0    31.0   339.0    650.0  2019  西藏\n",
       "\n",
       "[1190 rows x 7 columns]"
      ]
     },
     "execution_count": 19,
     "metadata": {},
     "output_type": "execute_result"
    }
   ],
   "source": [
    "data_df"
   ]
  },
  {
   "cell_type": "code",
   "execution_count": 20,
   "metadata": {},
   "outputs": [
    {
     "name": "stderr",
     "output_type": "stream",
     "text": [
      "C:\\Users\\USER\\anaconda3\\envs\\jupyterlab\\lib\\site-packages\\ipykernel_launcher.py:1: UserWarning: Boolean Series key will be reindexed to match DataFrame index.\n",
      "  \"\"\"Entry point for launching an IPython kernel.\n"
     ]
    },
    {
     "data": {
      "text/html": [
       "<div>\n",
       "<style scoped>\n",
       "    .dataframe tbody tr th:only-of-type {\n",
       "        vertical-align: middle;\n",
       "    }\n",
       "\n",
       "    .dataframe tbody tr th {\n",
       "        vertical-align: top;\n",
       "    }\n",
       "\n",
       "    .dataframe thead th {\n",
       "        text-align: right;\n",
       "    }\n",
       "</style>\n",
       "<table border=\"1\" class=\"dataframe\">\n",
       "  <thead>\n",
       "    <tr style=\"text-align: right;\">\n",
       "      <th></th>\n",
       "      <th>实用新型专利</th>\n",
       "      <th>发明专利</th>\n",
       "      <th>发明授权专利</th>\n",
       "      <th>外观专利</th>\n",
       "      <th>发明公开专利</th>\n",
       "      <th>年份</th>\n",
       "      <th>省份</th>\n",
       "    </tr>\n",
       "  </thead>\n",
       "  <tbody>\n",
       "    <tr>\n",
       "      <th>1021</th>\n",
       "      <td>33247.0</td>\n",
       "      <td>42712.0</td>\n",
       "      <td>21709.0</td>\n",
       "      <td>9830.0</td>\n",
       "      <td>21003.0</td>\n",
       "      <td>2015</td>\n",
       "      <td>上海</td>\n",
       "    </tr>\n",
       "  </tbody>\n",
       "</table>\n",
       "</div>"
      ],
      "text/plain": [
       "       实用新型专利     发明专利   发明授权专利    外观专利   发明公开专利    年份  省份\n",
       "1021  33247.0  42712.0  21709.0  9830.0  21003.0  2015  上海"
      ]
     },
     "execution_count": 20,
     "metadata": {},
     "output_type": "execute_result"
    }
   ],
   "source": [
    "data_df[data_df['年份']=='2015'][data_df['省份']=='上海']"
   ]
  },
  {
   "cell_type": "code",
   "execution_count": 22,
   "metadata": {},
   "outputs": [],
   "source": [
    "data_df.to_excel('./1985-2019年所有专利种类数量数据.xlsx')"
   ]
  },
  {
   "cell_type": "markdown",
   "metadata": {},
   "source": [
    "### 北京日报爬虫"
   ]
  },
  {
   "cell_type": "code",
   "execution_count": 1,
   "metadata": {},
   "outputs": [],
   "source": [
    "from requests_html import HTMLSession\n",
    "import pandas as pd\n",
    "import numpy as np\n",
    "import re\n",
    "import os\n",
    "from lxml import etree\n",
    "from time import strftime, strptime, sleep\n",
    "from tqdm import tqdm\n",
    "import random"
   ]
  },
  {
   "cell_type": "code",
   "execution_count": 2,
   "metadata": {},
   "outputs": [],
   "source": [
    "headers = {\n",
    "    'Connection': 'close',\n",
    "    'user-agent':'Mozilla/5.0 (Windows NT 10.0; Win64; x64) AppleWebKit/537.36 (KHTML, like Gecko) Chrome/84.0.4147.105 Safari/537.36'\n",
    "}"
   ]
  },
  {
   "cell_type": "code",
   "execution_count": 3,
   "metadata": {},
   "outputs": [],
   "source": [
    "startDate = '2020-12-01'\n",
    "endDate = '2020-12-31'\n",
    "day_list = [strftime('%Y-%m/%d', strptime(ts,'%Y-%m-%d')) for ts in pd.date_range(start=startDate,end=endDate, freq='D').format()]"
   ]
  },
  {
   "cell_type": "code",
   "execution_count": 4,
   "metadata": {},
   "outputs": [
    {
     "name": "stderr",
     "output_type": "stream",
     "text": [
      "Processing::   0%|          | 0/31 [00:00<?, ?it/s]"
     ]
    },
    {
     "name": "stdout",
     "output_type": "stream",
     "text": [
      "正在爬取2020-12/01\n"
     ]
    },
    {
     "name": "stderr",
     "output_type": "stream",
     "text": [
      "Processing::   3%|▎         | 1/31 [01:01<30:38, 61.28s/it]"
     ]
    },
    {
     "name": "stdout",
     "output_type": "stream",
     "text": [
      "正在爬取2020-12/02\n"
     ]
    },
    {
     "name": "stderr",
     "output_type": "stream",
     "text": [
      "Processing::   6%|▋         | 2/31 [01:57<28:13, 58.39s/it]"
     ]
    },
    {
     "name": "stdout",
     "output_type": "stream",
     "text": [
      "正在爬取2020-12/03\n",
      "Error: 没有找到中国对2021年世界经济增长贡献将超过1/3.txt文件或读取文件失败\n"
     ]
    },
    {
     "name": "stderr",
     "output_type": "stream",
     "text": [
      "Processing::  10%|▉         | 3/31 [02:53<26:37, 57.06s/it]"
     ]
    },
    {
     "name": "stdout",
     "output_type": "stream",
     "text": [
      "正在爬取2020-12/04\n"
     ]
    },
    {
     "name": "stderr",
     "output_type": "stream",
     "text": [
      "Processing::  13%|█▎        | 4/31 [03:46<24:58, 55.49s/it]"
     ]
    },
    {
     "name": "stdout",
     "output_type": "stream",
     "text": [
      "正在爬取2020-12/05\n"
     ]
    },
    {
     "name": "stderr",
     "output_type": "stream",
     "text": [
      "Processing::  16%|█▌        | 5/31 [04:20<20:41, 47.73s/it]"
     ]
    },
    {
     "name": "stdout",
     "output_type": "stream",
     "text": [
      "正在爬取2020-12/06\n"
     ]
    },
    {
     "name": "stderr",
     "output_type": "stream",
     "text": [
      "Processing::  19%|█▉        | 6/31 [04:42<16:17, 39.12s/it]"
     ]
    },
    {
     "name": "stdout",
     "output_type": "stream",
     "text": [
      "正在爬取2020-12/07\n"
     ]
    },
    {
     "name": "stderr",
     "output_type": "stream",
     "text": [
      "Processing::  23%|██▎       | 7/31 [05:34<17:19, 43.31s/it]"
     ]
    },
    {
     "name": "stdout",
     "output_type": "stream",
     "text": [
      "正在爬取2020-12/08\n"
     ]
    },
    {
     "name": "stderr",
     "output_type": "stream",
     "text": [
      "Processing::  26%|██▌       | 8/31 [06:29<18:04, 47.13s/it]"
     ]
    },
    {
     "name": "stdout",
     "output_type": "stream",
     "text": [
      "正在爬取2020-12/09\n"
     ]
    },
    {
     "name": "stderr",
     "output_type": "stream",
     "text": [
      "Processing::  29%|██▉       | 9/31 [07:30<18:47, 51.23s/it]"
     ]
    },
    {
     "name": "stdout",
     "output_type": "stream",
     "text": [
      "正在爬取2020-12/10\n"
     ]
    },
    {
     "name": "stderr",
     "output_type": "stream",
     "text": [
      "Processing::  32%|███▏      | 10/31 [08:36<19:36, 56.00s/it]"
     ]
    },
    {
     "name": "stdout",
     "output_type": "stream",
     "text": [
      "正在爬取2020-12/11\n"
     ]
    },
    {
     "name": "stderr",
     "output_type": "stream",
     "text": [
      "Processing::  35%|███▌      | 11/31 [09:41<19:31, 58.59s/it]"
     ]
    },
    {
     "name": "stdout",
     "output_type": "stream",
     "text": [
      "正在爬取2020-12/12\n"
     ]
    },
    {
     "name": "stderr",
     "output_type": "stream",
     "text": [
      "Processing::  39%|███▊      | 12/31 [10:14<16:05, 50.83s/it]"
     ]
    },
    {
     "name": "stdout",
     "output_type": "stream",
     "text": [
      "正在爬取2020-12/13\n"
     ]
    },
    {
     "name": "stderr",
     "output_type": "stream",
     "text": [
      "Processing::  42%|████▏     | 13/31 [10:43<13:15, 44.20s/it]"
     ]
    },
    {
     "name": "stdout",
     "output_type": "stream",
     "text": [
      "正在爬取2020-12/14\n"
     ]
    },
    {
     "name": "stderr",
     "output_type": "stream",
     "text": [
      "Processing::  45%|████▌     | 14/31 [11:45<14:06, 49.77s/it]"
     ]
    },
    {
     "name": "stdout",
     "output_type": "stream",
     "text": [
      "正在爬取2020-12/15\n"
     ]
    },
    {
     "name": "stderr",
     "output_type": "stream",
     "text": [
      "Processing::  48%|████▊     | 15/31 [12:48<14:18, 53.67s/it]"
     ]
    },
    {
     "name": "stdout",
     "output_type": "stream",
     "text": [
      "正在爬取2020-12/16\n"
     ]
    },
    {
     "name": "stderr",
     "output_type": "stream",
     "text": [
      "Processing::  52%|█████▏    | 16/31 [13:37<13:04, 52.33s/it]"
     ]
    },
    {
     "name": "stdout",
     "output_type": "stream",
     "text": [
      "正在爬取2020-12/17\n"
     ]
    },
    {
     "name": "stderr",
     "output_type": "stream",
     "text": [
      "Processing::  55%|█████▍    | 17/31 [14:27<12:01, 51.52s/it]"
     ]
    },
    {
     "name": "stdout",
     "output_type": "stream",
     "text": [
      "正在爬取2020-12/18\n"
     ]
    },
    {
     "name": "stderr",
     "output_type": "stream",
     "text": [
      "Processing::  58%|█████▊    | 18/31 [15:15<10:55, 50.39s/it]"
     ]
    },
    {
     "name": "stdout",
     "output_type": "stream",
     "text": [
      "正在爬取2020-12/19\n"
     ]
    },
    {
     "name": "stderr",
     "output_type": "stream",
     "text": [
      "Processing::  61%|██████▏   | 19/31 [15:37<08:22, 41.89s/it]"
     ]
    },
    {
     "name": "stdout",
     "output_type": "stream",
     "text": [
      "正在爬取2020-12/20\n"
     ]
    },
    {
     "name": "stderr",
     "output_type": "stream",
     "text": [
      "Processing::  65%|██████▍   | 20/31 [16:05<06:55, 37.78s/it]"
     ]
    },
    {
     "name": "stdout",
     "output_type": "stream",
     "text": [
      "正在爬取2020-12/21\n"
     ]
    },
    {
     "name": "stderr",
     "output_type": "stream",
     "text": [
      "Processing::  68%|██████▊   | 21/31 [16:56<06:58, 41.80s/it]"
     ]
    },
    {
     "name": "stdout",
     "output_type": "stream",
     "text": [
      "正在爬取2020-12/22\n"
     ]
    },
    {
     "name": "stderr",
     "output_type": "stream",
     "text": [
      "Processing::  71%|███████   | 22/31 [17:55<07:03, 47.03s/it]"
     ]
    },
    {
     "name": "stdout",
     "output_type": "stream",
     "text": [
      "正在爬取2020-12/23\n"
     ]
    },
    {
     "name": "stderr",
     "output_type": "stream",
     "text": [
      "Processing::  74%|███████▍  | 23/31 [18:46<06:25, 48.19s/it]"
     ]
    },
    {
     "name": "stdout",
     "output_type": "stream",
     "text": [
      "正在爬取2020-12/24\n"
     ]
    },
    {
     "name": "stderr",
     "output_type": "stream",
     "text": [
      "Processing::  77%|███████▋  | 24/31 [19:39<05:47, 49.64s/it]"
     ]
    },
    {
     "name": "stdout",
     "output_type": "stream",
     "text": [
      "正在爬取2020-12/25\n"
     ]
    },
    {
     "name": "stderr",
     "output_type": "stream",
     "text": [
      "Processing::  81%|████████  | 25/31 [20:30<04:59, 49.90s/it]"
     ]
    },
    {
     "name": "stdout",
     "output_type": "stream",
     "text": [
      "正在爬取2020-12/26\n"
     ]
    },
    {
     "name": "stderr",
     "output_type": "stream",
     "text": [
      "Processing::  84%|████████▍ | 26/31 [20:53<03:29, 41.88s/it]"
     ]
    },
    {
     "name": "stdout",
     "output_type": "stream",
     "text": [
      "正在爬取2020-12/27\n"
     ]
    },
    {
     "name": "stderr",
     "output_type": "stream",
     "text": [
      "Processing::  87%|████████▋ | 27/31 [21:28<02:38, 39.74s/it]"
     ]
    },
    {
     "name": "stdout",
     "output_type": "stream",
     "text": [
      "正在爬取2020-12/28\n"
     ]
    },
    {
     "name": "stderr",
     "output_type": "stream",
     "text": [
      "Processing::  90%|█████████ | 28/31 [22:21<02:11, 43.68s/it]"
     ]
    },
    {
     "name": "stdout",
     "output_type": "stream",
     "text": [
      "正在爬取2020-12/29\n"
     ]
    },
    {
     "name": "stderr",
     "output_type": "stream",
     "text": [
      "Processing::  94%|█████████▎| 29/31 [23:14<01:33, 46.66s/it]"
     ]
    },
    {
     "name": "stdout",
     "output_type": "stream",
     "text": [
      "正在爬取2020-12/30\n"
     ]
    },
    {
     "name": "stderr",
     "output_type": "stream",
     "text": [
      "Processing::  97%|█████████▋| 30/31 [23:58<00:45, 45.83s/it]"
     ]
    },
    {
     "name": "stdout",
     "output_type": "stream",
     "text": [
      "正在爬取2020-12/31\n"
     ]
    },
    {
     "name": "stderr",
     "output_type": "stream",
     "text": [
      "Processing:: 100%|██████████| 31/31 [24:38<00:00, 47.68s/it]\n"
     ]
    }
   ],
   "source": [
    "# 获取当前路径\n",
    "cwd = os.getcwd()\n",
    "# 获取请求对象\n",
    "session = HTMLSession()\n",
    "with tqdm(total=len(day_list)) as pbar:\n",
    "    pbar.set_description('Processing:')\n",
    "    for day in day_list:\n",
    "        print(\"正在爬取\"+day)\n",
    "        url = \"http://paper.people.com.cn/rmrb/html/{}/nbs.D110000renmrb_01.htm\".format(day)\n",
    "        respose = session.get(url, headers = headers, timeout=5)\n",
    "        plateName = [name[name.find('：')+1:] for name in re.findall('\\n\\d+\\w：\\w+' ,respose.html.text)]\n",
    "        for plateNum in [str(i).rjust(2,'0') for i in np.arange(1, len(plateName)+1)]:\n",
    "\n",
    "            name = plateName[int(plateNum)-1]\n",
    "            if os.path.exists(name):\n",
    "                os.chdir(cwd+'\\\\{}'.format(name))     # 进入文件夹\n",
    "            else:\n",
    "                os.mkdir(cwd+'\\\\{}'.format(name))     # 创建文件夹\n",
    "                os.chdir(cwd+'\\\\{}'.format(name))     # 进入文件夹\n",
    "\n",
    "            url_plate = \"http://paper.people.com.cn/rmrb/html/{}/nbs.D110000renmrb_{}.htm\".format(day, plateNum)\n",
    "        #     print(url_plate)\n",
    "            respose = session.get(url_plate, headers = headers, timeout=5)\n",
    "            titleName = [title[2:] for title in re.findall(r'\\n·\\S+[ \\S]*', respose.html.text)]\n",
    "\n",
    "            for titleNum in [i for i in np.arange(1, len(titleName)+1)]:\n",
    "\n",
    "                cwd_ = os.getcwd()\n",
    "                suffixName = day.replace('/','-')\n",
    "                if os.path.exists(suffixName) > 0:\n",
    "                    os.chdir(cwd_+'\\\\{}'.format(suffixName))     # 进入文件夹\n",
    "                else:\n",
    "                    os.mkdir(cwd_+'\\\\{}'.format(suffixName))     # 创建文件夹\n",
    "                    os.chdir(cwd_+'\\\\{}'.format(suffixName))     # 进入文件夹\n",
    "\n",
    "                url_passage = \"http://paper.people.com.cn/rmrb/html/{}/nw.D110000renmrb_{}_{}-{}.htm\".format(day, day.replace('-','').replace('/',''), titleNum, plateNum)\n",
    "        #         print(url_passage)\n",
    "                sleep(random.uniform(0, 0.5))\n",
    "                n = 3\n",
    "                isOk = True\n",
    "                while isOk:\n",
    "                    try:\n",
    "                        respose = session.get(url_passage, headers = headers, verify=False)\n",
    "                        isOk = False\n",
    "                    except:\n",
    "                        print(\"访问失败\")\n",
    "                        n -= 1\n",
    "        #         print(respose.text)\n",
    "                respose.encoding=\"utf-8\"\n",
    "                content = []\n",
    "                title_list = []\n",
    "                passageTitle = etree.HTML(respose.text).xpath('/html/body/div[2]/div[2]/div[3]/div[2]/h1/text()')      #获取文章标题\n",
    "                for i in range(len(passageTitle)):\n",
    "                    title_list.append(passageTitle[i])\n",
    "                text = etree.HTML(respose.text).xpath('//*[@id=\"ozoom\"]/p/text()')                # 获取文章内容\n",
    "                title = ''.join(title_list)\n",
    "                for i in range(len(text)):\n",
    "                    content.append(text[i])\n",
    "                content = re.sub('\\xa0', '', ''.join(re.findall(r\"[\\u4E00-\\u9FA5A-Za-z0-9_]+[,]{0,}[^,;=?]{0,}\", ','.join(content))))\n",
    "                try:\n",
    "                    with open(title+'.txt','w') as f:    \n",
    "                        f.write(content)\n",
    "                except:\n",
    "                    print(\"Error: 没有找到{}.txt文件或读取文件失败\".format(title))\n",
    "\n",
    "                os.chdir(cwd_)\n",
    "            os.chdir(cwd)\n",
    "        pbar.update(1)"
   ]
  }
 ],
 "metadata": {
  "kernelspec": {
   "display_name": "Python 3",
   "language": "python",
   "name": "python3"
  },
  "language_info": {
   "codemirror_mode": {
    "name": "ipython",
    "version": 3
   },
   "file_extension": ".py",
   "mimetype": "text/x-python",
   "name": "python",
   "nbconvert_exporter": "python",
   "pygments_lexer": "ipython3",
   "version": "3.6.12"
  }
 },
 "nbformat": 4,
 "nbformat_minor": 4
}
